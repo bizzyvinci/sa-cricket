{
 "cells": [
  {
   "cell_type": "markdown",
   "metadata": {},
   "source": [
    "# EXPLORATORY ANALYSIS OF VICTORY IN THE 21ST CENTURY"
   ]
  },
  {
   "cell_type": "markdown",
   "metadata": {},
   "source": [
    "## Contents\n",
    "\n",
    "<ul>\n",
    "    <li><a href='#imp-mod'>Import modules</a></li>\n",
    "    <li><a href='#conn-db'>Connect to database</a></li>\n",
    "    <li><a href='#preprocess'>Preprocessing</a></li>\n",
    "    <li><a href='#analysis'>Match analysis</a></li>\n",
    "    <ul>\n",
    "        <li><a href='#period'>Which periods of the year are most busy?</a></li>\n",
    "        <li><a href='#month'>Which months do players perform best?</a></li>\n",
    "        <li><a href='#corr'>What is the correlation between number of matches played and ability to win?</a></li>\n",
    "        <li><a href='#year'>How prosperous has South Africa been over the years in the 21st century?</a></li>\n",
    "        <li><a href='#toss'>Should South Africa toss, field or bat first?</a></li>\n",
    "    </ul>\n",
    "    <li><a href='#close-db'>Close database connection</a></li>\n",
    "</ul>"
   ]
  },
  {
   "cell_type": "markdown",
   "metadata": {},
   "source": [
    "<br><hr><br>"
   ]
  },
  {
   "cell_type": "markdown",
   "metadata": {},
   "source": [
    "## Import modules<a id='imp-mod'></a>"
   ]
  },
  {
   "cell_type": "code",
   "execution_count": 1,
   "metadata": {},
   "outputs": [],
   "source": [
    "import pandas as pd\n",
    "import matplotlib.pyplot as plt\n",
    "import sqlite3\n",
    "\n",
    "%matplotlib inline"
   ]
  },
  {
   "cell_type": "markdown",
   "metadata": {},
   "source": [
    "<br><hr><br>"
   ]
  },
  {
   "cell_type": "markdown",
   "metadata": {},
   "source": [
    "## Connect to database<a id='conn-db'></a>"
   ]
  },
  {
   "cell_type": "code",
   "execution_count": 2,
   "metadata": {},
   "outputs": [],
   "source": [
    "conn = sqlite3.connect('./../sa_cricket.db')\n",
    "cursor = conn.cursor()"
   ]
  },
  {
   "cell_type": "markdown",
   "metadata": {},
   "source": [
    "<br><hr><br>"
   ]
  },
  {
   "cell_type": "markdown",
   "metadata": {},
   "source": [
    "## Preprocessing<a id='preprocess'></a>"
   ]
  },
  {
   "cell_type": "code",
   "execution_count": 3,
   "metadata": {},
   "outputs": [
    {
     "data": {
      "text/html": [
       "<div>\n",
       "<style scoped>\n",
       "    .dataframe tbody tr th:only-of-type {\n",
       "        vertical-align: middle;\n",
       "    }\n",
       "\n",
       "    .dataframe tbody tr th {\n",
       "        vertical-align: top;\n",
       "    }\n",
       "\n",
       "    .dataframe thead th {\n",
       "        text-align: right;\n",
       "    }\n",
       "</style>\n",
       "<table border=\"1\" class=\"dataframe\">\n",
       "  <thead>\n",
       "    <tr style=\"text-align: right;\">\n",
       "      <th></th>\n",
       "      <th>Year</th>\n",
       "      <th>Month</th>\n",
       "      <th>Date</th>\n",
       "      <th>Opposition</th>\n",
       "      <th>Ground</th>\n",
       "      <th>Host</th>\n",
       "      <th>Result</th>\n",
       "      <th>Toss</th>\n",
       "    </tr>\n",
       "  </thead>\n",
       "  <tbody>\n",
       "    <tr>\n",
       "      <th>0</th>\n",
       "      <td>2000</td>\n",
       "      <td>03</td>\n",
       "      <td>2000-03-09</td>\n",
       "      <td>India</td>\n",
       "      <td>Nehru Stadium</td>\n",
       "      <td>India</td>\n",
       "      <td>India led the 5-match series 1-0</td>\n",
       "      <td>South Africa , elected to bat first</td>\n",
       "    </tr>\n",
       "    <tr>\n",
       "      <th>1</th>\n",
       "      <td>2000</td>\n",
       "      <td>03</td>\n",
       "      <td>2000-03-12</td>\n",
       "      <td>India</td>\n",
       "      <td>Keenan Stadium</td>\n",
       "      <td>India</td>\n",
       "      <td>India led the 5-match series 2-0</td>\n",
       "      <td>South Africa , elected to bat first</td>\n",
       "    </tr>\n",
       "    <tr>\n",
       "      <th>2</th>\n",
       "      <td>2000</td>\n",
       "      <td>03</td>\n",
       "      <td>2000-03-15</td>\n",
       "      <td>India</td>\n",
       "      <td>Nahar Singh Stadium</td>\n",
       "      <td>India</td>\n",
       "      <td>India led the 5-match series 2-1</td>\n",
       "      <td>South Africa , elected to field first</td>\n",
       "    </tr>\n",
       "    <tr>\n",
       "      <th>3</th>\n",
       "      <td>2000</td>\n",
       "      <td>03</td>\n",
       "      <td>2000-03-17</td>\n",
       "      <td>India</td>\n",
       "      <td>Reliance Stadium</td>\n",
       "      <td>India</td>\n",
       "      <td>India led the 5-match series 3-1</td>\n",
       "      <td>South Africa , elected to bat first</td>\n",
       "    </tr>\n",
       "    <tr>\n",
       "      <th>4</th>\n",
       "      <td>2000</td>\n",
       "      <td>03</td>\n",
       "      <td>2000-03-19</td>\n",
       "      <td>India</td>\n",
       "      <td>Vidarbha Cricket Association Ground</td>\n",
       "      <td>India</td>\n",
       "      <td>India won the 5-match series 3-2</td>\n",
       "      <td>India , elected to field first</td>\n",
       "    </tr>\n",
       "  </tbody>\n",
       "</table>\n",
       "</div>"
      ],
      "text/plain": [
       "   Year Month        Date Opposition                               Ground  \\\n",
       "0  2000    03  2000-03-09      India                        Nehru Stadium   \n",
       "1  2000    03  2000-03-12      India                       Keenan Stadium   \n",
       "2  2000    03  2000-03-15      India                  Nahar Singh Stadium   \n",
       "3  2000    03  2000-03-17      India                     Reliance Stadium   \n",
       "4  2000    03  2000-03-19      India  Vidarbha Cricket Association Ground   \n",
       "\n",
       "    Host                            Result  \\\n",
       "0  India  India led the 5-match series 1-0   \n",
       "1  India  India led the 5-match series 2-0   \n",
       "2  India  India led the 5-match series 2-1   \n",
       "3  India  India led the 5-match series 3-1   \n",
       "4  India  India won the 5-match series 3-2   \n",
       "\n",
       "                                    Toss  \n",
       "0    South Africa , elected to bat first  \n",
       "1    South Africa , elected to bat first  \n",
       "2  South Africa , elected to field first  \n",
       "3    South Africa , elected to bat first  \n",
       "4         India , elected to field first  "
      ]
     },
     "execution_count": 3,
     "metadata": {},
     "output_type": "execute_result"
    }
   ],
   "source": [
    "query = '''select\n",
    "            strftime(\"%Y\", m.match_date) as Year, \n",
    "            strftime(\"%m\", m.match_date) as Month,\n",
    "            m.match_date as Date,\n",
    "            o.opp_name as Opposition,\n",
    "            g.ground_name as Ground,\n",
    "            g.country as Host,\n",
    "            m.result as Result,\n",
    "            m.toss as Toss\n",
    "            from mat as m join\n",
    "            opposition as o join\n",
    "            ground as g\n",
    "            where m.opposition=o.opp_id and m.ground=g.ground_id;\n",
    "        '''\n",
    "df = pd.read_sql_query(query, conn)\n",
    "df.head()"
   ]
  },
  {
   "cell_type": "code",
   "execution_count": 4,
   "metadata": {},
   "outputs": [],
   "source": [
    "def winner(result):\n",
    "    '''\n",
    "    Input game result e.g 'India led the 5-match series 1-0'\n",
    "    Return Winner e.g 'India'\n",
    "    '''\n",
    "    if result == '':\n",
    "        # This are non-tour games such as world cup and series\n",
    "        winner = 'No result'\n",
    "    else:\n",
    "        if 'led' in result:\n",
    "            winner = result.split(' led ')[0]\n",
    "        elif 'won' in result:\n",
    "            winner = result.split(' won ')[0]\n",
    "        elif 'advanced' in result:\n",
    "            winner = result.split(' advanced')[0]\n",
    "        # There would be a need to handle cases like:\n",
    "        # 3-match series level 1-1\n",
    "        # 3-match series drawn 1-1\n",
    "        elif 'level' in result:\n",
    "            winner = 'Unknown-level'\n",
    "        elif 'drawn' in result:\n",
    "            winner = 'Unknown-draw'\n",
    "        else:\n",
    "            winner = 'Unknown'\n",
    "    return winner\n",
    "    '''\n",
    "    The options from above are:\n",
    "        [Country]\n",
    "        No result\n",
    "        Unknown*\n",
    "    I believe it would better to somehow find winners among Unknown*s\n",
    "    '''    "
   ]
  },
  {
   "cell_type": "markdown",
   "metadata": {},
   "source": [
    "God! I repeated this so much. Almost done before noticed\n",
    "\n",
    "`win_by_\\*.rename(columns={0: 'Unknown', -1: 'Lost', 1: 'Won'}, inplace=True)`\n",
    "\n",
    "Next time, decide before you return. Just kidding, even right now I'm still confused on whether to return int or str for toss. "
   ]
  },
  {
   "cell_type": "code",
   "execution_count": 5,
   "metadata": {},
   "outputs": [],
   "source": [
    "def point(result):\n",
    "    '''\n",
    "    To make things simpler so that outcome of winner is either:\n",
    "        1 for Win\n",
    "        0 for Unknown or No result\n",
    "        -1 for Losses\n",
    "    '''\n",
    "    w = winner(result)\n",
    "    if ('Unknown' in w) or w=='No result':\n",
    "        return 0\n",
    "    elif w=='South Africa':\n",
    "        return 1\n",
    "    else:\n",
    "        return -1"
   ]
  },
  {
   "cell_type": "code",
   "execution_count": 6,
   "metadata": {},
   "outputs": [],
   "source": [
    "'''\n",
    "Get tosser and their choice from toss e.g 'South Africa , elected to bat first'\n",
    "'''\n",
    "def tosser(t):\n",
    "    t_split = t.split(' , elected to ')\n",
    "    tosser = t_split[0]\n",
    "    return tosser\n",
    "\n",
    "def toss(t):\n",
    "    # Return 1 if South Africa tossed\n",
    "    toss = tosser(t)\n",
    "    if toss=='South Africa':\n",
    "        return 1\n",
    "    else:\n",
    "        return 0\n",
    "\n",
    "def choice(t):\n",
    "    t_split = t.split(' , elected to ')\n",
    "    choice = t_split[1]\n",
    "    return choice"
   ]
  },
  {
   "cell_type": "code",
   "execution_count": 7,
   "metadata": {},
   "outputs": [
    {
     "data": {
      "text/html": [
       "<div>\n",
       "<style scoped>\n",
       "    .dataframe tbody tr th:only-of-type {\n",
       "        vertical-align: middle;\n",
       "    }\n",
       "\n",
       "    .dataframe tbody tr th {\n",
       "        vertical-align: top;\n",
       "    }\n",
       "\n",
       "    .dataframe thead th {\n",
       "        text-align: right;\n",
       "    }\n",
       "</style>\n",
       "<table border=\"1\" class=\"dataframe\">\n",
       "  <thead>\n",
       "    <tr style=\"text-align: right;\">\n",
       "      <th></th>\n",
       "      <th>Year</th>\n",
       "      <th>Month</th>\n",
       "      <th>Date</th>\n",
       "      <th>Opposition</th>\n",
       "      <th>Ground</th>\n",
       "      <th>Host</th>\n",
       "      <th>Point</th>\n",
       "      <th>Tossed</th>\n",
       "      <th>Toss Choice</th>\n",
       "    </tr>\n",
       "  </thead>\n",
       "  <tbody>\n",
       "    <tr>\n",
       "      <th>0</th>\n",
       "      <td>2000</td>\n",
       "      <td>03</td>\n",
       "      <td>2000-03-09</td>\n",
       "      <td>India</td>\n",
       "      <td>Nehru Stadium</td>\n",
       "      <td>India</td>\n",
       "      <td>-1</td>\n",
       "      <td>1</td>\n",
       "      <td>bat first</td>\n",
       "    </tr>\n",
       "    <tr>\n",
       "      <th>1</th>\n",
       "      <td>2000</td>\n",
       "      <td>03</td>\n",
       "      <td>2000-03-12</td>\n",
       "      <td>India</td>\n",
       "      <td>Keenan Stadium</td>\n",
       "      <td>India</td>\n",
       "      <td>-1</td>\n",
       "      <td>1</td>\n",
       "      <td>bat first</td>\n",
       "    </tr>\n",
       "    <tr>\n",
       "      <th>2</th>\n",
       "      <td>2000</td>\n",
       "      <td>03</td>\n",
       "      <td>2000-03-15</td>\n",
       "      <td>India</td>\n",
       "      <td>Nahar Singh Stadium</td>\n",
       "      <td>India</td>\n",
       "      <td>-1</td>\n",
       "      <td>1</td>\n",
       "      <td>field first</td>\n",
       "    </tr>\n",
       "    <tr>\n",
       "      <th>3</th>\n",
       "      <td>2000</td>\n",
       "      <td>03</td>\n",
       "      <td>2000-03-17</td>\n",
       "      <td>India</td>\n",
       "      <td>Reliance Stadium</td>\n",
       "      <td>India</td>\n",
       "      <td>-1</td>\n",
       "      <td>1</td>\n",
       "      <td>bat first</td>\n",
       "    </tr>\n",
       "    <tr>\n",
       "      <th>4</th>\n",
       "      <td>2000</td>\n",
       "      <td>03</td>\n",
       "      <td>2000-03-19</td>\n",
       "      <td>India</td>\n",
       "      <td>Vidarbha Cricket Association Ground</td>\n",
       "      <td>India</td>\n",
       "      <td>-1</td>\n",
       "      <td>0</td>\n",
       "      <td>field first</td>\n",
       "    </tr>\n",
       "  </tbody>\n",
       "</table>\n",
       "</div>"
      ],
      "text/plain": [
       "   Year Month        Date Opposition                               Ground  \\\n",
       "0  2000    03  2000-03-09      India                        Nehru Stadium   \n",
       "1  2000    03  2000-03-12      India                       Keenan Stadium   \n",
       "2  2000    03  2000-03-15      India                  Nahar Singh Stadium   \n",
       "3  2000    03  2000-03-17      India                     Reliance Stadium   \n",
       "4  2000    03  2000-03-19      India  Vidarbha Cricket Association Ground   \n",
       "\n",
       "    Host  Point  Tossed  Toss Choice  \n",
       "0  India     -1       1    bat first  \n",
       "1  India     -1       1    bat first  \n",
       "2  India     -1       1  field first  \n",
       "3  India     -1       1    bat first  \n",
       "4  India     -1       0  field first  "
      ]
     },
     "execution_count": 7,
     "metadata": {},
     "output_type": "execute_result"
    }
   ],
   "source": [
    "df['Point'] = df['Result'].apply(point)\n",
    "df['Tossed'] = df['Toss'].apply(toss)\n",
    "df['Toss Choice'] = df['Toss'].apply(choice)\n",
    "\n",
    "# Drop Result and Toss after getting what's needed\n",
    "df.drop(['Result', 'Toss'], axis=1, inplace=True)\n",
    "df.head()"
   ]
  },
  {
   "cell_type": "markdown",
   "metadata": {},
   "source": [
    "<br><hr><br>"
   ]
  },
  {
   "cell_type": "markdown",
   "metadata": {},
   "source": [
    "## Match analysis<a id='analysis'></a>"
   ]
  },
  {
   "cell_type": "markdown",
   "metadata": {},
   "source": [
    "### Which periods of the year are most busy?<a id='period'></a>"
   ]
  },
  {
   "cell_type": "code",
   "execution_count": 8,
   "metadata": {},
   "outputs": [
    {
     "data": {
      "image/png": "[encoded data removed]",
      "text/plain": [
       "<Figure size 1008x432 with 1 Axes>"
      ]
     },
     "metadata": {
      "needs_background": "light"
     },
     "output_type": "display_data"
    }
   ],
   "source": [
    "# Number of matches played each month since 2000\n",
    "match_by_month = df.groupby(by='Month').count()['Point']   #/20 to get the average\n",
    "match_by_month.plot(kind='bar', figsize=(14,6))\n",
    "plt.title('Matches played in 2000s')\n",
    "plt.ylabel('Matches')\n",
    "plt.xlabel('Month')\n",
    "plt.xticks(rotation=0)\n",
    "plt.show()"
   ]
  },
  {
   "cell_type": "markdown",
   "metadata": {},
   "source": [
    "#### The first three months are most busy and followed immediately with the least busy months.\n",
    "The last month is understandable (christmas and holiday period)"
   ]
  },
  {
   "cell_type": "markdown",
   "metadata": {},
   "source": [
    "<hr>"
   ]
  },
  {
   "cell_type": "markdown",
   "metadata": {},
   "source": [
    "### Which months do players perform best?<a id='month'></a>"
   ]
  },
  {
   "cell_type": "code",
   "execution_count": 9,
   "metadata": {},
   "outputs": [],
   "source": [
    "# Number of matches played each month since 2000\n",
    "\n",
    "'''\n",
    "# This commented section does the same thing as win_by_month.\n",
    "# Kept for reference purpose\n",
    "match_by_month = df[['Month', 'Point']].groupby(by=['Month','Point'], as_index=False)\n",
    "match_by_month.size().unstack(fill_value=0)\n",
    "'''\n",
    "\n",
    "win_by_month = df.pivot_table(index='Month', columns='Point', aggfunc='size', fill_value=0)\n",
    "win_by_month.rename(columns={0: 'Unknown', -1: 'Lost', 1: 'Won'}, inplace=True)\n"
   ]
  },
  {
   "cell_type": "code",
   "execution_count": 10,
   "metadata": {},
   "outputs": [
    {
     "data": {
      "text/html": [
       "<div>\n",
       "<style scoped>\n",
       "    .dataframe tbody tr th:only-of-type {\n",
       "        vertical-align: middle;\n",
       "    }\n",
       "\n",
       "    .dataframe tbody tr th {\n",
       "        vertical-align: top;\n",
       "    }\n",
       "\n",
       "    .dataframe thead th {\n",
       "        text-align: right;\n",
       "    }\n",
       "</style>\n",
       "<table border=\"1\" class=\"dataframe\">\n",
       "  <thead>\n",
       "    <tr style=\"text-align: right;\">\n",
       "      <th></th>\n",
       "      <th>Lost</th>\n",
       "      <th>Unknown</th>\n",
       "      <th>Won</th>\n",
       "      <th>Total Games</th>\n",
       "      <th>Percent Won</th>\n",
       "      <th>Absolute Total</th>\n",
       "    </tr>\n",
       "    <tr>\n",
       "      <th>Month</th>\n",
       "      <th></th>\n",
       "      <th></th>\n",
       "      <th></th>\n",
       "      <th></th>\n",
       "      <th></th>\n",
       "      <th></th>\n",
       "    </tr>\n",
       "  </thead>\n",
       "  <tbody>\n",
       "    <tr>\n",
       "      <th>01</th>\n",
       "      <td>6</td>\n",
       "      <td>19</td>\n",
       "      <td>28</td>\n",
       "      <td>34</td>\n",
       "      <td>82.352941</td>\n",
       "      <td>53</td>\n",
       "    </tr>\n",
       "    <tr>\n",
       "      <th>02</th>\n",
       "      <td>16</td>\n",
       "      <td>23</td>\n",
       "      <td>28</td>\n",
       "      <td>44</td>\n",
       "      <td>63.636364</td>\n",
       "      <td>67</td>\n",
       "    </tr>\n",
       "    <tr>\n",
       "      <th>03</th>\n",
       "      <td>13</td>\n",
       "      <td>21</td>\n",
       "      <td>20</td>\n",
       "      <td>33</td>\n",
       "      <td>60.606061</td>\n",
       "      <td>54</td>\n",
       "    </tr>\n",
       "    <tr>\n",
       "      <th>04</th>\n",
       "      <td>6</td>\n",
       "      <td>11</td>\n",
       "      <td>5</td>\n",
       "      <td>11</td>\n",
       "      <td>45.454545</td>\n",
       "      <td>22</td>\n",
       "    </tr>\n",
       "    <tr>\n",
       "      <th>05</th>\n",
       "      <td>3</td>\n",
       "      <td>2</td>\n",
       "      <td>15</td>\n",
       "      <td>18</td>\n",
       "      <td>83.333333</td>\n",
       "      <td>20</td>\n",
       "    </tr>\n",
       "    <tr>\n",
       "      <th>06</th>\n",
       "      <td>0</td>\n",
       "      <td>17</td>\n",
       "      <td>3</td>\n",
       "      <td>3</td>\n",
       "      <td>100.000000</td>\n",
       "      <td>20</td>\n",
       "    </tr>\n",
       "    <tr>\n",
       "      <th>07</th>\n",
       "      <td>9</td>\n",
       "      <td>11</td>\n",
       "      <td>4</td>\n",
       "      <td>13</td>\n",
       "      <td>30.769231</td>\n",
       "      <td>24</td>\n",
       "    </tr>\n",
       "    <tr>\n",
       "      <th>08</th>\n",
       "      <td>12</td>\n",
       "      <td>11</td>\n",
       "      <td>14</td>\n",
       "      <td>26</td>\n",
       "      <td>53.846154</td>\n",
       "      <td>37</td>\n",
       "    </tr>\n",
       "    <tr>\n",
       "      <th>09</th>\n",
       "      <td>2</td>\n",
       "      <td>10</td>\n",
       "      <td>10</td>\n",
       "      <td>12</td>\n",
       "      <td>83.333333</td>\n",
       "      <td>22</td>\n",
       "    </tr>\n",
       "    <tr>\n",
       "      <th>10</th>\n",
       "      <td>7</td>\n",
       "      <td>16</td>\n",
       "      <td>34</td>\n",
       "      <td>41</td>\n",
       "      <td>82.926829</td>\n",
       "      <td>57</td>\n",
       "    </tr>\n",
       "    <tr>\n",
       "      <th>11</th>\n",
       "      <td>10</td>\n",
       "      <td>8</td>\n",
       "      <td>23</td>\n",
       "      <td>33</td>\n",
       "      <td>69.696970</td>\n",
       "      <td>41</td>\n",
       "    </tr>\n",
       "    <tr>\n",
       "      <th>12</th>\n",
       "      <td>0</td>\n",
       "      <td>1</td>\n",
       "      <td>13</td>\n",
       "      <td>13</td>\n",
       "      <td>100.000000</td>\n",
       "      <td>14</td>\n",
       "    </tr>\n",
       "  </tbody>\n",
       "</table>\n",
       "</div>"
      ],
      "text/plain": [
       "       Lost  Unknown  Won  Total Games  Percent Won  Absolute Total\n",
       "Month                                                              \n",
       "01        6       19   28           34    82.352941              53\n",
       "02       16       23   28           44    63.636364              67\n",
       "03       13       21   20           33    60.606061              54\n",
       "04        6       11    5           11    45.454545              22\n",
       "05        3        2   15           18    83.333333              20\n",
       "06        0       17    3            3   100.000000              20\n",
       "07        9       11    4           13    30.769231              24\n",
       "08       12       11   14           26    53.846154              37\n",
       "09        2       10   10           12    83.333333              22\n",
       "10        7       16   34           41    82.926829              57\n",
       "11       10        8   23           33    69.696970              41\n",
       "12        0        1   13           13   100.000000              14"
      ]
     },
     "execution_count": 10,
     "metadata": {},
     "output_type": "execute_result"
    }
   ],
   "source": [
    "# Total games that leads to either a win or loss\n",
    "win_by_month['Total Games'] = win_by_month['Lost'] + win_by_month['Won']\n",
    "\n",
    "# Percent of Total games won\n",
    "win_by_month['Percent Won'] = (win_by_month['Won'] * 100) / win_by_month['Total Games']\n",
    "\n",
    "# Absolute total of games played including '-' result\n",
    "win_by_month['Absolute Total'] = win_by_month['Total Games'] + win_by_month['Unknown']\n",
    "\n",
    "# Drop column name\n",
    "win_by_month.columns.name=''\n",
    "\n",
    "win_by_month"
   ]
  },
  {
   "cell_type": "code",
   "execution_count": 11,
   "metadata": {},
   "outputs": [
    {
     "data": {
      "image/png": "[encoded data removed]",
      "text/plain": [
       "<Figure size 1008x432 with 1 Axes>"
      ]
     },
     "metadata": {
      "needs_background": "light"
     },
     "output_type": "display_data"
    }
   ],
   "source": [
    "win_by_month['Percent Won'].plot(kind='bar', figsize=(14,6))\n",
    "plt.xticks(rotation=0)\n",
    "plt.ylabel('Victory (%)')\n",
    "plt.title('Percentage of games won')\n",
    "plt.show()"
   ]
  },
  {
   "cell_type": "markdown",
   "metadata": {},
   "source": [
    "#### The Best Months are June and December. The most with least games.\n",
    "\n",
    "Also note that the best month is followed immediately by worst month, August.\n",
    "Why? There's just a little increase in the number of games played"
   ]
  },
  {
   "cell_type": "markdown",
   "metadata": {},
   "source": [
    "<hr>"
   ]
  },
  {
   "cell_type": "markdown",
   "metadata": {},
   "source": [
    "### What is the correlation between number of matches played and ability to win?<a id='corr'></a>"
   ]
  },
  {
   "cell_type": "code",
   "execution_count": 12,
   "metadata": {},
   "outputs": [
    {
     "data": {
      "text/plain": [
       "\n",
       "Lost             -0.659865\n",
       "Unknown          -0.173735\n",
       "Won               0.190523\n",
       "Total Games      -0.109293\n",
       "Percent Won       1.000000\n",
       "Absolute Total   -0.148523\n",
       "Name: Percent Won, dtype: float64"
      ]
     },
     "execution_count": 12,
     "metadata": {},
     "output_type": "execute_result"
    }
   ],
   "source": [
    "win_by_month.corr()['Percent Won']"
   ]
  },
  {
   "cell_type": "markdown",
   "metadata": {},
   "source": [
    "#### There's no strong correlation between Percent and anything else except Losses"
   ]
  },
  {
   "cell_type": "markdown",
   "metadata": {},
   "source": [
    "<hr>"
   ]
  },
  {
   "cell_type": "markdown",
   "metadata": {},
   "source": [
    "### How prosperous has South Africa been over the years in the 21st century?<a id='year'></a>"
   ]
  },
  {
   "cell_type": "code",
   "execution_count": 13,
   "metadata": {},
   "outputs": [],
   "source": [
    "win_by_year = df.pivot_table(index='Year', columns='Point', aggfunc='size', fill_value=0)\n",
    "win_by_year.rename(columns={0: 'Unknown', -1: 'Lost', 1: 'Won'}, inplace=True)"
   ]
  },
  {
   "cell_type": "code",
   "execution_count": 14,
   "metadata": {},
   "outputs": [
    {
     "data": {
      "text/html": [
       "<div>\n",
       "<style scoped>\n",
       "    .dataframe tbody tr th:only-of-type {\n",
       "        vertical-align: middle;\n",
       "    }\n",
       "\n",
       "    .dataframe tbody tr th {\n",
       "        vertical-align: top;\n",
       "    }\n",
       "\n",
       "    .dataframe thead th {\n",
       "        text-align: right;\n",
       "    }\n",
       "</style>\n",
       "<table border=\"1\" class=\"dataframe\">\n",
       "  <thead>\n",
       "    <tr style=\"text-align: right;\">\n",
       "      <th></th>\n",
       "      <th>Lost</th>\n",
       "      <th>Unknown</th>\n",
       "      <th>Won</th>\n",
       "      <th>Total Games</th>\n",
       "      <th>Percent Won</th>\n",
       "      <th>Absolute Total</th>\n",
       "    </tr>\n",
       "    <tr>\n",
       "      <th>Year</th>\n",
       "      <th></th>\n",
       "      <th></th>\n",
       "      <th></th>\n",
       "      <th></th>\n",
       "      <th></th>\n",
       "      <th></th>\n",
       "    </tr>\n",
       "  </thead>\n",
       "  <tbody>\n",
       "    <tr>\n",
       "      <th>2000</th>\n",
       "      <td>10</td>\n",
       "      <td>18</td>\n",
       "      <td>12</td>\n",
       "      <td>22</td>\n",
       "      <td>54.545455</td>\n",
       "      <td>40</td>\n",
       "    </tr>\n",
       "    <tr>\n",
       "      <th>2001</th>\n",
       "      <td>1</td>\n",
       "      <td>7</td>\n",
       "      <td>13</td>\n",
       "      <td>14</td>\n",
       "      <td>92.857143</td>\n",
       "      <td>21</td>\n",
       "    </tr>\n",
       "    <tr>\n",
       "      <th>2002</th>\n",
       "      <td>9</td>\n",
       "      <td>15</td>\n",
       "      <td>14</td>\n",
       "      <td>23</td>\n",
       "      <td>60.869565</td>\n",
       "      <td>38</td>\n",
       "    </tr>\n",
       "    <tr>\n",
       "      <th>2003</th>\n",
       "      <td>4</td>\n",
       "      <td>17</td>\n",
       "      <td>1</td>\n",
       "      <td>5</td>\n",
       "      <td>20.000000</td>\n",
       "      <td>22</td>\n",
       "    </tr>\n",
       "    <tr>\n",
       "      <th>2004</th>\n",
       "      <td>9</td>\n",
       "      <td>3</td>\n",
       "      <td>5</td>\n",
       "      <td>14</td>\n",
       "      <td>35.714286</td>\n",
       "      <td>17</td>\n",
       "    </tr>\n",
       "    <tr>\n",
       "      <th>2005</th>\n",
       "      <td>2</td>\n",
       "      <td>3</td>\n",
       "      <td>17</td>\n",
       "      <td>19</td>\n",
       "      <td>89.473684</td>\n",
       "      <td>22</td>\n",
       "    </tr>\n",
       "    <tr>\n",
       "      <th>2006</th>\n",
       "      <td>1</td>\n",
       "      <td>12</td>\n",
       "      <td>11</td>\n",
       "      <td>12</td>\n",
       "      <td>91.666667</td>\n",
       "      <td>24</td>\n",
       "    </tr>\n",
       "    <tr>\n",
       "      <th>2007</th>\n",
       "      <td>3</td>\n",
       "      <td>14</td>\n",
       "      <td>12</td>\n",
       "      <td>15</td>\n",
       "      <td>80.000000</td>\n",
       "      <td>29</td>\n",
       "    </tr>\n",
       "    <tr>\n",
       "      <th>2008</th>\n",
       "      <td>4</td>\n",
       "      <td>0</td>\n",
       "      <td>12</td>\n",
       "      <td>16</td>\n",
       "      <td>75.000000</td>\n",
       "      <td>16</td>\n",
       "    </tr>\n",
       "    <tr>\n",
       "      <th>2009</th>\n",
       "      <td>3</td>\n",
       "      <td>6</td>\n",
       "      <td>9</td>\n",
       "      <td>12</td>\n",
       "      <td>75.000000</td>\n",
       "      <td>18</td>\n",
       "    </tr>\n",
       "    <tr>\n",
       "      <th>2010</th>\n",
       "      <td>3</td>\n",
       "      <td>2</td>\n",
       "      <td>11</td>\n",
       "      <td>14</td>\n",
       "      <td>78.571429</td>\n",
       "      <td>16</td>\n",
       "    </tr>\n",
       "    <tr>\n",
       "      <th>2011</th>\n",
       "      <td>4</td>\n",
       "      <td>9</td>\n",
       "      <td>2</td>\n",
       "      <td>6</td>\n",
       "      <td>33.333333</td>\n",
       "      <td>15</td>\n",
       "    </tr>\n",
       "    <tr>\n",
       "      <th>2012</th>\n",
       "      <td>1</td>\n",
       "      <td>2</td>\n",
       "      <td>9</td>\n",
       "      <td>10</td>\n",
       "      <td>90.000000</td>\n",
       "      <td>12</td>\n",
       "    </tr>\n",
       "    <tr>\n",
       "      <th>2013</th>\n",
       "      <td>11</td>\n",
       "      <td>3</td>\n",
       "      <td>10</td>\n",
       "      <td>21</td>\n",
       "      <td>47.619048</td>\n",
       "      <td>24</td>\n",
       "    </tr>\n",
       "    <tr>\n",
       "      <th>2014</th>\n",
       "      <td>4</td>\n",
       "      <td>6</td>\n",
       "      <td>8</td>\n",
       "      <td>12</td>\n",
       "      <td>66.666667</td>\n",
       "      <td>18</td>\n",
       "    </tr>\n",
       "    <tr>\n",
       "      <th>2015</th>\n",
       "      <td>2</td>\n",
       "      <td>10</td>\n",
       "      <td>12</td>\n",
       "      <td>14</td>\n",
       "      <td>85.714286</td>\n",
       "      <td>24</td>\n",
       "    </tr>\n",
       "    <tr>\n",
       "      <th>2016</th>\n",
       "      <td>3</td>\n",
       "      <td>6</td>\n",
       "      <td>7</td>\n",
       "      <td>10</td>\n",
       "      <td>70.000000</td>\n",
       "      <td>16</td>\n",
       "    </tr>\n",
       "    <tr>\n",
       "      <th>2017</th>\n",
       "      <td>3</td>\n",
       "      <td>5</td>\n",
       "      <td>11</td>\n",
       "      <td>14</td>\n",
       "      <td>78.571429</td>\n",
       "      <td>19</td>\n",
       "    </tr>\n",
       "    <tr>\n",
       "      <th>2018</th>\n",
       "      <td>6</td>\n",
       "      <td>1</td>\n",
       "      <td>10</td>\n",
       "      <td>16</td>\n",
       "      <td>62.500000</td>\n",
       "      <td>17</td>\n",
       "    </tr>\n",
       "    <tr>\n",
       "      <th>2019</th>\n",
       "      <td>1</td>\n",
       "      <td>10</td>\n",
       "      <td>7</td>\n",
       "      <td>8</td>\n",
       "      <td>87.500000</td>\n",
       "      <td>18</td>\n",
       "    </tr>\n",
       "    <tr>\n",
       "      <th>2020</th>\n",
       "      <td>0</td>\n",
       "      <td>1</td>\n",
       "      <td>4</td>\n",
       "      <td>4</td>\n",
       "      <td>100.000000</td>\n",
       "      <td>5</td>\n",
       "    </tr>\n",
       "  </tbody>\n",
       "</table>\n",
       "</div>"
      ],
      "text/plain": [
       "      Lost  Unknown  Won  Total Games  Percent Won  Absolute Total\n",
       "Year                                                              \n",
       "2000    10       18   12           22    54.545455              40\n",
       "2001     1        7   13           14    92.857143              21\n",
       "2002     9       15   14           23    60.869565              38\n",
       "2003     4       17    1            5    20.000000              22\n",
       "2004     9        3    5           14    35.714286              17\n",
       "2005     2        3   17           19    89.473684              22\n",
       "2006     1       12   11           12    91.666667              24\n",
       "2007     3       14   12           15    80.000000              29\n",
       "2008     4        0   12           16    75.000000              16\n",
       "2009     3        6    9           12    75.000000              18\n",
       "2010     3        2   11           14    78.571429              16\n",
       "2011     4        9    2            6    33.333333              15\n",
       "2012     1        2    9           10    90.000000              12\n",
       "2013    11        3   10           21    47.619048              24\n",
       "2014     4        6    8           12    66.666667              18\n",
       "2015     2       10   12           14    85.714286              24\n",
       "2016     3        6    7           10    70.000000              16\n",
       "2017     3        5   11           14    78.571429              19\n",
       "2018     6        1   10           16    62.500000              17\n",
       "2019     1       10    7            8    87.500000              18\n",
       "2020     0        1    4            4   100.000000               5"
      ]
     },
     "execution_count": 14,
     "metadata": {},
     "output_type": "execute_result"
    }
   ],
   "source": [
    "# Total games that leads to either a win or loss\n",
    "win_by_year['Total Games'] = win_by_year['Lost'] + win_by_year['Won']\n",
    "\n",
    "# Percent of Total games won\n",
    "win_by_year['Percent Won'] = (win_by_year['Won'] * 100) / win_by_year['Total Games']\n",
    "\n",
    "# Absolute total of games played including '-' result\n",
    "win_by_year['Absolute Total'] = win_by_year['Total Games'] + win_by_year['Unknown']\n",
    "\n",
    "# Drop column name\n",
    "win_by_year.columns.name=''\n",
    "\n",
    "win_by_year"
   ]
  },
  {
   "cell_type": "code",
   "execution_count": 15,
   "metadata": {},
   "outputs": [
    {
     "data": {
      "image/png": "[encoded data removed]",
      "text/plain": [
       "<Figure size 1008x432 with 1 Axes>"
      ]
     },
     "metadata": {
      "needs_background": "light"
     },
     "output_type": "display_data"
    }
   ],
   "source": [
    "plt.figure(figsize=(14,6))\n",
    "plt.plot(win_by_year.index, win_by_year['Percent Won'], '--bo')\n",
    "plt.xticks(rotation=0)\n",
    "plt.ylabel('Victory')\n",
    "plt.xlabel('Year')\n",
    "plt.title('Percentage of games won')\n",
    "plt.show()"
   ]
  },
  {
   "cell_type": "markdown",
   "metadata": {},
   "source": [
    "Holy shit!\n",
    "What the heck happened in 2001-2004 and 2011?\n",
    "\n",
    "2020 is still fresh but they are starting strong. 2020 has the least total games, 4.\n",
    "\n",
    "2003 and 2011 have the least total games after 2020. Maybe some results have been misplaced as unknown. \n",
    "The drastic change might partly be caused by me.\n"
   ]
  },
  {
   "cell_type": "markdown",
   "metadata": {},
   "source": [
    "<hr>"
   ]
  },
  {
   "cell_type": "markdown",
   "metadata": {},
   "source": [
    "### Should South Africa field or bat first?<a id='toss'></a>\n",
    "\n",
    "#### Should they even pray to have the toss?"
   ]
  },
  {
   "cell_type": "code",
   "execution_count": 16,
   "metadata": {},
   "outputs": [
    {
     "data": {
      "text/html": [
       "<div>\n",
       "<style scoped>\n",
       "    .dataframe tbody tr th:only-of-type {\n",
       "        vertical-align: middle;\n",
       "    }\n",
       "\n",
       "    .dataframe tbody tr th {\n",
       "        vertical-align: top;\n",
       "    }\n",
       "\n",
       "    .dataframe thead th {\n",
       "        text-align: right;\n",
       "    }\n",
       "</style>\n",
       "<table border=\"1\" class=\"dataframe\">\n",
       "  <thead>\n",
       "    <tr style=\"text-align: right;\">\n",
       "      <th></th>\n",
       "      <th>Lost</th>\n",
       "      <th>Unknown</th>\n",
       "      <th>Won</th>\n",
       "      <th>Percent</th>\n",
       "    </tr>\n",
       "    <tr>\n",
       "      <th>Tossed</th>\n",
       "      <th></th>\n",
       "      <th></th>\n",
       "      <th></th>\n",
       "      <th></th>\n",
       "    </tr>\n",
       "  </thead>\n",
       "  <tbody>\n",
       "    <tr>\n",
       "      <th>Opposition</th>\n",
       "      <td>37</td>\n",
       "      <td>75</td>\n",
       "      <td>91</td>\n",
       "      <td>71.093750</td>\n",
       "    </tr>\n",
       "    <tr>\n",
       "      <th>South Africa</th>\n",
       "      <td>47</td>\n",
       "      <td>75</td>\n",
       "      <td>106</td>\n",
       "      <td>69.281046</td>\n",
       "    </tr>\n",
       "  </tbody>\n",
       "</table>\n",
       "</div>"
      ],
      "text/plain": [
       "              Lost  Unknown  Won    Percent\n",
       "Tossed                                     \n",
       "Opposition      37       75   91  71.093750\n",
       "South Africa    47       75  106  69.281046"
      ]
     },
     "execution_count": 16,
     "metadata": {},
     "output_type": "execute_result"
    }
   ],
   "source": [
    "win_by_tosser = df.pivot_table(index='Tossed', columns='Point', aggfunc='size', fill_value=0)\n",
    "win_by_tosser.rename(columns={0: 'Unknown', -1: 'Lost', 1: 'Won'}, index={0: 'Opposition', 1: 'South Africa'}, inplace=True)\n",
    "\n",
    "# Percent of games won\n",
    "win_by_tosser['Percent'] = (win_by_tosser['Won'] * 100) / (win_by_tosser['Won'] + win_by_tosser['Lost'])\n",
    "\n",
    "# Drop column name\n",
    "win_by_tosser.columns.name=''\n",
    "win_by_tosser.head()"
   ]
  },
  {
   "cell_type": "markdown",
   "metadata": {},
   "source": [
    "#### There ain't much difference if South Africa has the toss and from the analysis below, fielding or batting first does not drastically change their chance of winning"
   ]
  },
  {
   "cell_type": "code",
   "execution_count": 17,
   "metadata": {},
   "outputs": [
    {
     "data": {
      "text/html": [
       "<div>\n",
       "<style scoped>\n",
       "    .dataframe tbody tr th:only-of-type {\n",
       "        vertical-align: middle;\n",
       "    }\n",
       "\n",
       "    .dataframe tbody tr th {\n",
       "        vertical-align: top;\n",
       "    }\n",
       "\n",
       "    .dataframe thead th {\n",
       "        text-align: right;\n",
       "    }\n",
       "</style>\n",
       "<table border=\"1\" class=\"dataframe\">\n",
       "  <thead>\n",
       "    <tr style=\"text-align: right;\">\n",
       "      <th></th>\n",
       "      <th>Point</th>\n",
       "      <th>Lost</th>\n",
       "      <th>Unknown</th>\n",
       "      <th>Won</th>\n",
       "      <th>Percent</th>\n",
       "    </tr>\n",
       "    <tr>\n",
       "      <th>Tossed</th>\n",
       "      <th>Toss Choice</th>\n",
       "      <th></th>\n",
       "      <th></th>\n",
       "      <th></th>\n",
       "      <th></th>\n",
       "    </tr>\n",
       "  </thead>\n",
       "  <tbody>\n",
       "    <tr>\n",
       "      <th rowspan=\"2\" valign=\"top\">Opposition</th>\n",
       "      <th>bat first</th>\n",
       "      <td>22</td>\n",
       "      <td>50</td>\n",
       "      <td>51</td>\n",
       "      <td>69.863014</td>\n",
       "    </tr>\n",
       "    <tr>\n",
       "      <th>field first</th>\n",
       "      <td>15</td>\n",
       "      <td>25</td>\n",
       "      <td>40</td>\n",
       "      <td>72.727273</td>\n",
       "    </tr>\n",
       "    <tr>\n",
       "      <th rowspan=\"2\" valign=\"top\">South Africa</th>\n",
       "      <th>bat first</th>\n",
       "      <td>26</td>\n",
       "      <td>45</td>\n",
       "      <td>55</td>\n",
       "      <td>67.901235</td>\n",
       "    </tr>\n",
       "    <tr>\n",
       "      <th>field first</th>\n",
       "      <td>21</td>\n",
       "      <td>30</td>\n",
       "      <td>51</td>\n",
       "      <td>70.833333</td>\n",
       "    </tr>\n",
       "  </tbody>\n",
       "</table>\n",
       "</div>"
      ],
      "text/plain": [
       "Point                     Lost  Unknown  Won    Percent\n",
       "Tossed       Toss Choice                               \n",
       "Opposition   bat first      22       50   51  69.863014\n",
       "             field first    15       25   40  72.727273\n",
       "South Africa bat first      26       45   55  67.901235\n",
       "             field first    21       30   51  70.833333"
      ]
     },
     "execution_count": 17,
     "metadata": {},
     "output_type": "execute_result"
    }
   ],
   "source": [
    "# Choice is a little more complicated. The choice is for the tosser (not 'South Africa')\n",
    "win_by_toss = df.pivot_table(index=['Tossed', 'Toss Choice'], columns='Point', aggfunc='size', fill_value=0)\n",
    "win_by_toss.rename(columns={0: 'Unknown', -1: 'Lost', 1: 'Won'}, index={0: 'Opposition', 1: 'South Africa'}, inplace=True)\n",
    "\n",
    "# Percent of games won\n",
    "win_by_toss['Percent'] = (win_by_toss['Won'] * 100) / (win_by_toss['Won'] + win_by_toss['Lost'])\n",
    "\n",
    "win_by_toss.head()"
   ]
  },
  {
   "cell_type": "markdown",
   "metadata": {},
   "source": [
    "<hr>"
   ]
  },
  {
   "cell_type": "markdown",
   "metadata": {},
   "source": [
    "## Close database connection<a id='close-db'></a>"
   ]
  },
  {
   "cell_type": "code",
   "execution_count": 18,
   "metadata": {},
   "outputs": [],
   "source": [
    "cursor.close()\n",
    "conn.close()"
   ]
  },
  {
   "cell_type": "markdown",
   "metadata": {},
   "source": [
    "<hr>"
   ]
  }
 ],
 "metadata": {
  "kernelspec": {
   "display_name": "Python 3",
   "language": "python",
   "name": "python3"
  },
  "language_info": {
   "codemirror_mode": {
    "name": "ipython",
    "version": 3
   },
   "file_extension": ".py",
   "mimetype": "text/x-python",
   "name": "python",
   "nbconvert_exporter": "python",
   "pygments_lexer": "ipython3",
   "version": "3.6.9"
  }
 },
 "nbformat": 4,
 "nbformat_minor": 4
}
