{
 "cells": [
  {
   "cell_type": "markdown",
   "metadata": {},
   "source": [
    "# EXPLORATORY ANALYSIS OF 2010s"
   ]
  },
  {
   "cell_type": "code",
   "execution_count": null,
   "metadata": {},
   "outputs": [],
   "source": []
  },
  {
   "cell_type": "code",
   "execution_count": null,
   "metadata": {},
   "outputs": [],
   "source": []
  },
  {
   "cell_type": "code",
   "execution_count": 47,
   "metadata": {},
   "outputs": [
    {
     "data": {
      "text/html": [
       "<div>\n",
       "<style scoped>\n",
       "    .dataframe tbody tr th:only-of-type {\n",
       "        vertical-align: middle;\n",
       "    }\n",
       "\n",
       "    .dataframe tbody tr th {\n",
       "        vertical-align: top;\n",
       "    }\n",
       "\n",
       "    .dataframe thead th {\n",
       "        text-align: right;\n",
       "    }\n",
       "</style>\n",
       "<table border=\"1\" class=\"dataframe\">\n",
       "  <thead>\n",
       "    <tr style=\"text-align: right;\">\n",
       "      <th></th>\n",
       "      <th>year</th>\n",
       "      <th>month</th>\n",
       "      <th>date</th>\n",
       "      <th>opposition</th>\n",
       "      <th>ground</th>\n",
       "      <th>host</th>\n",
       "      <th>result</th>\n",
       "      <th>toss</th>\n",
       "    </tr>\n",
       "  </thead>\n",
       "  <tbody>\n",
       "    <tr>\n",
       "      <th>0</th>\n",
       "      <td>2000</td>\n",
       "      <td>03</td>\n",
       "      <td>2000-03-09</td>\n",
       "      <td>India</td>\n",
       "      <td>Nehru Stadium</td>\n",
       "      <td>India</td>\n",
       "      <td>India led the 5-match series 1-0</td>\n",
       "      <td>South Africa , elected to bat first</td>\n",
       "    </tr>\n",
       "    <tr>\n",
       "      <th>1</th>\n",
       "      <td>2000</td>\n",
       "      <td>03</td>\n",
       "      <td>2000-03-12</td>\n",
       "      <td>India</td>\n",
       "      <td>Keenan Stadium</td>\n",
       "      <td>India</td>\n",
       "      <td>India led the 5-match series 2-0</td>\n",
       "      <td>South Africa , elected to bat first</td>\n",
       "    </tr>\n",
       "    <tr>\n",
       "      <th>2</th>\n",
       "      <td>2000</td>\n",
       "      <td>03</td>\n",
       "      <td>2000-03-15</td>\n",
       "      <td>India</td>\n",
       "      <td>Nahar Singh Stadium</td>\n",
       "      <td>India</td>\n",
       "      <td>India led the 5-match series 2-1</td>\n",
       "      <td>South Africa , elected to field first</td>\n",
       "    </tr>\n",
       "    <tr>\n",
       "      <th>3</th>\n",
       "      <td>2000</td>\n",
       "      <td>03</td>\n",
       "      <td>2000-03-17</td>\n",
       "      <td>India</td>\n",
       "      <td>Reliance Stadium</td>\n",
       "      <td>India</td>\n",
       "      <td>India led the 5-match series 3-1</td>\n",
       "      <td>South Africa , elected to bat first</td>\n",
       "    </tr>\n",
       "    <tr>\n",
       "      <th>4</th>\n",
       "      <td>2000</td>\n",
       "      <td>03</td>\n",
       "      <td>2000-03-19</td>\n",
       "      <td>India</td>\n",
       "      <td>Vidarbha Cricket Association Ground</td>\n",
       "      <td>India</td>\n",
       "      <td>India won the 5-match series 3-2</td>\n",
       "      <td>India , elected to field first</td>\n",
       "    </tr>\n",
       "  </tbody>\n",
       "</table>\n",
       "</div>"
      ],
      "text/plain": [
       "   year month        date opposition                               ground  \\\n",
       "0  2000    03  2000-03-09      India                        Nehru Stadium   \n",
       "1  2000    03  2000-03-12      India                       Keenan Stadium   \n",
       "2  2000    03  2000-03-15      India                  Nahar Singh Stadium   \n",
       "3  2000    03  2000-03-17      India                     Reliance Stadium   \n",
       "4  2000    03  2000-03-19      India  Vidarbha Cricket Association Ground   \n",
       "\n",
       "    host                            result  \\\n",
       "0  India  India led the 5-match series 1-0   \n",
       "1  India  India led the 5-match series 2-0   \n",
       "2  India  India led the 5-match series 2-1   \n",
       "3  India  India led the 5-match series 3-1   \n",
       "4  India  India won the 5-match series 3-2   \n",
       "\n",
       "                                    toss  \n",
       "0    South Africa , elected to bat first  \n",
       "1    South Africa , elected to bat first  \n",
       "2  South Africa , elected to field first  \n",
       "3    South Africa , elected to bat first  \n",
       "4         India , elected to field first  "
      ]
     },
     "execution_count": 47,
     "metadata": {},
     "output_type": "execute_result"
    }
   ],
   "source": [
    "query = '''select\n",
    "            strftime(\"%Y\", m.match_date) as year, \n",
    "            strftime(\"%m\", m.match_date) as month,\n",
    "            m.match_date as date,\n",
    "            o.opp_name as opposition,\n",
    "            g.ground_name as ground,\n",
    "            g.country as host,\n",
    "            m.result,\n",
    "            m.toss\n",
    "            from mat as m join\n",
    "            opposition as o join\n",
    "            ground as g\n",
    "            where m.opposition=o.opp_id and m.ground=g.ground_id;\n",
    "        '''\n",
    "df = pd.read_sql_query(query, conn)\n",
    "df.head()"
   ]
  },
  {
   "cell_type": "code",
   "execution_count": null,
   "metadata": {},
   "outputs": [],
   "source": []
  },
  {
   "cell_type": "code",
   "execution_count": null,
   "metadata": {},
   "outputs": [],
   "source": []
  },
  {
   "cell_type": "code",
   "execution_count": null,
   "metadata": {},
   "outputs": [],
   "source": []
  },
  {
   "cell_type": "code",
   "execution_count": null,
   "metadata": {},
   "outputs": [],
   "source": []
  },
  {
   "cell_type": "code",
   "execution_count": null,
   "metadata": {},
   "outputs": [],
   "source": []
  }
 ],
 "metadata": {
  "kernelspec": {
   "display_name": "Python 3",
   "language": "python",
   "name": "python3"
  },
  "language_info": {
   "codemirror_mode": {
    "name": "ipython",
    "version": 3
   },
   "file_extension": ".py",
   "mimetype": "text/x-python",
   "name": "python",
   "nbconvert_exporter": "python",
   "pygments_lexer": "ipython3",
   "version": "3.6.9"
  }
 },
 "nbformat": 4,
 "nbformat_minor": 4
}
