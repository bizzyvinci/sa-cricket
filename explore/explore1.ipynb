{
 "cells": [
  {
   "cell_type": "markdown",
   "metadata": {},
   "source": [
    "# EXPLORATORY ANALYSIS OF THE 21ST CENTURY"
   ]
  },
  {
   "cell_type": "markdown",
   "metadata": {},
   "source": [
    "## Contents"
   ]
  },
  {
   "cell_type": "code",
   "execution_count": null,
   "metadata": {},
   "outputs": [],
   "source": []
  },
  {
   "cell_type": "code",
   "execution_count": 130,
   "metadata": {},
   "outputs": [],
   "source": [
    "import pandas as pd\n",
    "import matplotlib.pyplot as plt\n",
    "import sqlite3\n",
    "\n",
    "%matplotlib inline"
   ]
  },
  {
   "cell_type": "markdown",
   "metadata": {},
   "source": [
    "### Connect to database"
   ]
  },
  {
   "cell_type": "code",
   "execution_count": 37,
   "metadata": {},
   "outputs": [],
   "source": [
    "conn = sqlite3.connect('./sa_cricket.db')\n",
    "cursor = conn.cursor()"
   ]
  },
  {
   "cell_type": "markdown",
   "metadata": {},
   "source": [
    "<br><hr><br>"
   ]
  },
  {
   "cell_type": "markdown",
   "metadata": {},
   "source": [
    "## Preprocessing"
   ]
  },
  {
   "cell_type": "code",
   "execution_count": 140,
   "metadata": {},
   "outputs": [
    {
     "data": {
      "text/html": [
       "<div>\n",
       "<style scoped>\n",
       "    .dataframe tbody tr th:only-of-type {\n",
       "        vertical-align: middle;\n",
       "    }\n",
       "\n",
       "    .dataframe tbody tr th {\n",
       "        vertical-align: top;\n",
       "    }\n",
       "\n",
       "    .dataframe thead th {\n",
       "        text-align: right;\n",
       "    }\n",
       "</style>\n",
       "<table border=\"1\" class=\"dataframe\">\n",
       "  <thead>\n",
       "    <tr style=\"text-align: right;\">\n",
       "      <th></th>\n",
       "      <th>Year</th>\n",
       "      <th>Month</th>\n",
       "      <th>Date</th>\n",
       "      <th>Opposition</th>\n",
       "      <th>Ground</th>\n",
       "      <th>Host</th>\n",
       "      <th>Result</th>\n",
       "      <th>Toss</th>\n",
       "    </tr>\n",
       "  </thead>\n",
       "  <tbody>\n",
       "    <tr>\n",
       "      <th>0</th>\n",
       "      <td>2000</td>\n",
       "      <td>03</td>\n",
       "      <td>2000-03-09</td>\n",
       "      <td>India</td>\n",
       "      <td>Nehru Stadium</td>\n",
       "      <td>India</td>\n",
       "      <td>India led the 5-match series 1-0</td>\n",
       "      <td>South Africa , elected to bat first</td>\n",
       "    </tr>\n",
       "    <tr>\n",
       "      <th>1</th>\n",
       "      <td>2000</td>\n",
       "      <td>03</td>\n",
       "      <td>2000-03-12</td>\n",
       "      <td>India</td>\n",
       "      <td>Keenan Stadium</td>\n",
       "      <td>India</td>\n",
       "      <td>India led the 5-match series 2-0</td>\n",
       "      <td>South Africa , elected to bat first</td>\n",
       "    </tr>\n",
       "    <tr>\n",
       "      <th>2</th>\n",
       "      <td>2000</td>\n",
       "      <td>03</td>\n",
       "      <td>2000-03-15</td>\n",
       "      <td>India</td>\n",
       "      <td>Nahar Singh Stadium</td>\n",
       "      <td>India</td>\n",
       "      <td>India led the 5-match series 2-1</td>\n",
       "      <td>South Africa , elected to field first</td>\n",
       "    </tr>\n",
       "    <tr>\n",
       "      <th>3</th>\n",
       "      <td>2000</td>\n",
       "      <td>03</td>\n",
       "      <td>2000-03-17</td>\n",
       "      <td>India</td>\n",
       "      <td>Reliance Stadium</td>\n",
       "      <td>India</td>\n",
       "      <td>India led the 5-match series 3-1</td>\n",
       "      <td>South Africa , elected to bat first</td>\n",
       "    </tr>\n",
       "    <tr>\n",
       "      <th>4</th>\n",
       "      <td>2000</td>\n",
       "      <td>03</td>\n",
       "      <td>2000-03-19</td>\n",
       "      <td>India</td>\n",
       "      <td>Vidarbha Cricket Association Ground</td>\n",
       "      <td>India</td>\n",
       "      <td>India won the 5-match series 3-2</td>\n",
       "      <td>India , elected to field first</td>\n",
       "    </tr>\n",
       "  </tbody>\n",
       "</table>\n",
       "</div>"
      ],
      "text/plain": [
       "   Year Month        Date Opposition                               Ground  \\\n",
       "0  2000    03  2000-03-09      India                        Nehru Stadium   \n",
       "1  2000    03  2000-03-12      India                       Keenan Stadium   \n",
       "2  2000    03  2000-03-15      India                  Nahar Singh Stadium   \n",
       "3  2000    03  2000-03-17      India                     Reliance Stadium   \n",
       "4  2000    03  2000-03-19      India  Vidarbha Cricket Association Ground   \n",
       "\n",
       "    Host                            Result  \\\n",
       "0  India  India led the 5-match series 1-0   \n",
       "1  India  India led the 5-match series 2-0   \n",
       "2  India  India led the 5-match series 2-1   \n",
       "3  India  India led the 5-match series 3-1   \n",
       "4  India  India won the 5-match series 3-2   \n",
       "\n",
       "                                    Toss  \n",
       "0    South Africa , elected to bat first  \n",
       "1    South Africa , elected to bat first  \n",
       "2  South Africa , elected to field first  \n",
       "3    South Africa , elected to bat first  \n",
       "4         India , elected to field first  "
      ]
     },
     "execution_count": 140,
     "metadata": {},
     "output_type": "execute_result"
    }
   ],
   "source": [
    "query = '''select\n",
    "            strftime(\"%Y\", m.match_date) as Year, \n",
    "            strftime(\"%m\", m.match_date) as Month,\n",
    "            m.match_date as Date,\n",
    "            o.opp_name as Opposition,\n",
    "            g.ground_name as Ground,\n",
    "            g.country as Host,\n",
    "            m.result as Result,\n",
    "            m.toss as Toss\n",
    "            from mat as m join\n",
    "            opposition as o join\n",
    "            ground as g\n",
    "            where m.opposition=o.opp_id and m.ground=g.ground_id;\n",
    "        '''\n",
    "df = pd.read_sql_query(query, conn)\n",
    "df.head()"
   ]
  },
  {
   "cell_type": "code",
   "execution_count": 143,
   "metadata": {},
   "outputs": [],
   "source": [
    "def winner(result):\n",
    "    if result == '':\n",
    "        # This are non-tour games such as world cup and series\n",
    "        winner = 'No result'\n",
    "    else:\n",
    "        if 'led' in result:\n",
    "            winner = result.split(' led ')[0]\n",
    "        elif 'won' in result:\n",
    "            winner = result.split(' won ')[0]\n",
    "        elif 'advanced' in result:\n",
    "            winner = result.split(' advanced')[0]\n",
    "        # There would be a need to handle cases like:\n",
    "        # 3-match series level 1-1\n",
    "        # 3-match series drawn 1-1\n",
    "        elif 'level' in result:\n",
    "            winner = 'Unknown-level'\n",
    "        elif 'drawn' in result:\n",
    "            winner = 'Unknown-draw'\n",
    "        else:\n",
    "            winner = 'Unknown'\n",
    "    return winner\n",
    "    '''\n",
    "    The options from above are:\n",
    "        [Country]\n",
    "        No result\n",
    "        Unknown*\n",
    "    '''    "
   ]
  },
  {
   "cell_type": "code",
   "execution_count": 157,
   "metadata": {},
   "outputs": [],
   "source": [
    "def win_filter(result):\n",
    "    '''\n",
    "    To make things simpler so that outcome of winner is either:\n",
    "        Us\n",
    "        Opposition\n",
    "        -\n",
    "    '''\n",
    "    w = winner(result)\n",
    "    if ('Unknown' in w) or w=='No result':\n",
    "        return '-'\n",
    "    elif w=='South Africa':\n",
    "        return w\n",
    "    else:\n",
    "        return 'Opposition'"
   ]
  },
  {
   "cell_type": "code",
   "execution_count": 158,
   "metadata": {},
   "outputs": [],
   "source": [
    "def tosser(t):\n",
    "    t_split = t.split(' , elected to ')\n",
    "    tosser = t_split[0]\n",
    "    return tosser\n",
    "\n",
    "def tosser_filter(t):\n",
    "    toss = tosser(t)\n",
    "    if toss=='South Africa':\n",
    "        return toss\n",
    "    else:\n",
    "        return 'Opposition'\n",
    "\n",
    "def choice(t):\n",
    "    t_split = t.split(' , elected to ')\n",
    "    choice = t_split[1]\n",
    "    return choice"
   ]
  },
  {
   "cell_type": "code",
   "execution_count": 159,
   "metadata": {},
   "outputs": [
    {
     "data": {
      "text/html": [
       "<div>\n",
       "<style scoped>\n",
       "    .dataframe tbody tr th:only-of-type {\n",
       "        vertical-align: middle;\n",
       "    }\n",
       "\n",
       "    .dataframe tbody tr th {\n",
       "        vertical-align: top;\n",
       "    }\n",
       "\n",
       "    .dataframe thead th {\n",
       "        text-align: right;\n",
       "    }\n",
       "</style>\n",
       "<table border=\"1\" class=\"dataframe\">\n",
       "  <thead>\n",
       "    <tr style=\"text-align: right;\">\n",
       "      <th></th>\n",
       "      <th>Year</th>\n",
       "      <th>Month</th>\n",
       "      <th>Date</th>\n",
       "      <th>Opposition</th>\n",
       "      <th>Ground</th>\n",
       "      <th>Host</th>\n",
       "      <th>Result</th>\n",
       "      <th>Toss</th>\n",
       "      <th>Winner</th>\n",
       "      <th>Tosser</th>\n",
       "      <th>Toss Choice</th>\n",
       "    </tr>\n",
       "  </thead>\n",
       "  <tbody>\n",
       "    <tr>\n",
       "      <th>0</th>\n",
       "      <td>2000</td>\n",
       "      <td>03</td>\n",
       "      <td>2000-03-09</td>\n",
       "      <td>India</td>\n",
       "      <td>Nehru Stadium</td>\n",
       "      <td>India</td>\n",
       "      <td>India led the 5-match series 1-0</td>\n",
       "      <td>South Africa , elected to bat first</td>\n",
       "      <td>Opposition</td>\n",
       "      <td>South Africa</td>\n",
       "      <td>bat first</td>\n",
       "    </tr>\n",
       "    <tr>\n",
       "      <th>1</th>\n",
       "      <td>2000</td>\n",
       "      <td>03</td>\n",
       "      <td>2000-03-12</td>\n",
       "      <td>India</td>\n",
       "      <td>Keenan Stadium</td>\n",
       "      <td>India</td>\n",
       "      <td>India led the 5-match series 2-0</td>\n",
       "      <td>South Africa , elected to bat first</td>\n",
       "      <td>Opposition</td>\n",
       "      <td>South Africa</td>\n",
       "      <td>bat first</td>\n",
       "    </tr>\n",
       "    <tr>\n",
       "      <th>2</th>\n",
       "      <td>2000</td>\n",
       "      <td>03</td>\n",
       "      <td>2000-03-15</td>\n",
       "      <td>India</td>\n",
       "      <td>Nahar Singh Stadium</td>\n",
       "      <td>India</td>\n",
       "      <td>India led the 5-match series 2-1</td>\n",
       "      <td>South Africa , elected to field first</td>\n",
       "      <td>Opposition</td>\n",
       "      <td>South Africa</td>\n",
       "      <td>field first</td>\n",
       "    </tr>\n",
       "    <tr>\n",
       "      <th>3</th>\n",
       "      <td>2000</td>\n",
       "      <td>03</td>\n",
       "      <td>2000-03-17</td>\n",
       "      <td>India</td>\n",
       "      <td>Reliance Stadium</td>\n",
       "      <td>India</td>\n",
       "      <td>India led the 5-match series 3-1</td>\n",
       "      <td>South Africa , elected to bat first</td>\n",
       "      <td>Opposition</td>\n",
       "      <td>South Africa</td>\n",
       "      <td>bat first</td>\n",
       "    </tr>\n",
       "    <tr>\n",
       "      <th>4</th>\n",
       "      <td>2000</td>\n",
       "      <td>03</td>\n",
       "      <td>2000-03-19</td>\n",
       "      <td>India</td>\n",
       "      <td>Vidarbha Cricket Association Ground</td>\n",
       "      <td>India</td>\n",
       "      <td>India won the 5-match series 3-2</td>\n",
       "      <td>India , elected to field first</td>\n",
       "      <td>Opposition</td>\n",
       "      <td>Opposition</td>\n",
       "      <td>field first</td>\n",
       "    </tr>\n",
       "  </tbody>\n",
       "</table>\n",
       "</div>"
      ],
      "text/plain": [
       "   Year Month        Date Opposition                               Ground  \\\n",
       "0  2000    03  2000-03-09      India                        Nehru Stadium   \n",
       "1  2000    03  2000-03-12      India                       Keenan Stadium   \n",
       "2  2000    03  2000-03-15      India                  Nahar Singh Stadium   \n",
       "3  2000    03  2000-03-17      India                     Reliance Stadium   \n",
       "4  2000    03  2000-03-19      India  Vidarbha Cricket Association Ground   \n",
       "\n",
       "    Host                            Result  \\\n",
       "0  India  India led the 5-match series 1-0   \n",
       "1  India  India led the 5-match series 2-0   \n",
       "2  India  India led the 5-match series 2-1   \n",
       "3  India  India led the 5-match series 3-1   \n",
       "4  India  India won the 5-match series 3-2   \n",
       "\n",
       "                                    Toss      Winner        Tosser  \\\n",
       "0    South Africa , elected to bat first  Opposition  South Africa   \n",
       "1    South Africa , elected to bat first  Opposition  South Africa   \n",
       "2  South Africa , elected to field first  Opposition  South Africa   \n",
       "3    South Africa , elected to bat first  Opposition  South Africa   \n",
       "4         India , elected to field first  Opposition    Opposition   \n",
       "\n",
       "   Toss Choice  \n",
       "0    bat first  \n",
       "1    bat first  \n",
       "2  field first  \n",
       "3    bat first  \n",
       "4  field first  "
      ]
     },
     "execution_count": 159,
     "metadata": {},
     "output_type": "execute_result"
    }
   ],
   "source": [
    "df['Winner'] = df['Result'].apply(win_filter)\n",
    "df['Tosser'] = df['Toss'].apply(tosser_filter)\n",
    "df['Toss Choice'] = df['Toss'].apply(choice)\n",
    "df.head()"
   ]
  },
  {
   "cell_type": "code",
   "execution_count": 163,
   "metadata": {},
   "outputs": [
    {
     "data": {
      "text/html": [
       "<div>\n",
       "<style scoped>\n",
       "    .dataframe tbody tr th:only-of-type {\n",
       "        vertical-align: middle;\n",
       "    }\n",
       "\n",
       "    .dataframe tbody tr th {\n",
       "        vertical-align: top;\n",
       "    }\n",
       "\n",
       "    .dataframe thead th {\n",
       "        text-align: right;\n",
       "    }\n",
       "</style>\n",
       "<table border=\"1\" class=\"dataframe\">\n",
       "  <thead>\n",
       "    <tr style=\"text-align: right;\">\n",
       "      <th></th>\n",
       "      <th>Year</th>\n",
       "      <th>Month</th>\n",
       "      <th>Date</th>\n",
       "      <th>Opposition</th>\n",
       "      <th>Ground</th>\n",
       "      <th>Host</th>\n",
       "      <th>Winner</th>\n",
       "      <th>Tosser</th>\n",
       "      <th>Toss Choice</th>\n",
       "    </tr>\n",
       "  </thead>\n",
       "  <tbody>\n",
       "    <tr>\n",
       "      <th>0</th>\n",
       "      <td>2000</td>\n",
       "      <td>03</td>\n",
       "      <td>2000-03-09</td>\n",
       "      <td>India</td>\n",
       "      <td>Nehru Stadium</td>\n",
       "      <td>India</td>\n",
       "      <td>Opposition</td>\n",
       "      <td>South Africa</td>\n",
       "      <td>bat first</td>\n",
       "    </tr>\n",
       "    <tr>\n",
       "      <th>1</th>\n",
       "      <td>2000</td>\n",
       "      <td>03</td>\n",
       "      <td>2000-03-12</td>\n",
       "      <td>India</td>\n",
       "      <td>Keenan Stadium</td>\n",
       "      <td>India</td>\n",
       "      <td>Opposition</td>\n",
       "      <td>South Africa</td>\n",
       "      <td>bat first</td>\n",
       "    </tr>\n",
       "    <tr>\n",
       "      <th>2</th>\n",
       "      <td>2000</td>\n",
       "      <td>03</td>\n",
       "      <td>2000-03-15</td>\n",
       "      <td>India</td>\n",
       "      <td>Nahar Singh Stadium</td>\n",
       "      <td>India</td>\n",
       "      <td>Opposition</td>\n",
       "      <td>South Africa</td>\n",
       "      <td>field first</td>\n",
       "    </tr>\n",
       "    <tr>\n",
       "      <th>3</th>\n",
       "      <td>2000</td>\n",
       "      <td>03</td>\n",
       "      <td>2000-03-17</td>\n",
       "      <td>India</td>\n",
       "      <td>Reliance Stadium</td>\n",
       "      <td>India</td>\n",
       "      <td>Opposition</td>\n",
       "      <td>South Africa</td>\n",
       "      <td>bat first</td>\n",
       "    </tr>\n",
       "    <tr>\n",
       "      <th>4</th>\n",
       "      <td>2000</td>\n",
       "      <td>03</td>\n",
       "      <td>2000-03-19</td>\n",
       "      <td>India</td>\n",
       "      <td>Vidarbha Cricket Association Ground</td>\n",
       "      <td>India</td>\n",
       "      <td>Opposition</td>\n",
       "      <td>Opposition</td>\n",
       "      <td>field first</td>\n",
       "    </tr>\n",
       "  </tbody>\n",
       "</table>\n",
       "</div>"
      ],
      "text/plain": [
       "   Year Month        Date Opposition                               Ground  \\\n",
       "0  2000    03  2000-03-09      India                        Nehru Stadium   \n",
       "1  2000    03  2000-03-12      India                       Keenan Stadium   \n",
       "2  2000    03  2000-03-15      India                  Nahar Singh Stadium   \n",
       "3  2000    03  2000-03-17      India                     Reliance Stadium   \n",
       "4  2000    03  2000-03-19      India  Vidarbha Cricket Association Ground   \n",
       "\n",
       "    Host      Winner        Tosser  Toss Choice  \n",
       "0  India  Opposition  South Africa    bat first  \n",
       "1  India  Opposition  South Africa    bat first  \n",
       "2  India  Opposition  South Africa  field first  \n",
       "3  India  Opposition  South Africa    bat first  \n",
       "4  India  Opposition    Opposition  field first  "
      ]
     },
     "execution_count": 163,
     "metadata": {},
     "output_type": "execute_result"
    }
   ],
   "source": [
    "df.drop(['Result', 'Toss'], axis=1, inplace=True)\n",
    "df.head()"
   ]
  },
  {
   "cell_type": "code",
   "execution_count": null,
   "metadata": {},
   "outputs": [],
   "source": []
  },
  {
   "cell_type": "code",
   "execution_count": null,
   "metadata": {},
   "outputs": [],
   "source": []
  },
  {
   "cell_type": "markdown",
   "metadata": {},
   "source": [
    "<br><hr><br><hr><br>"
   ]
  },
  {
   "cell_type": "markdown",
   "metadata": {},
   "source": [
    "## Match analysis"
   ]
  },
  {
   "cell_type": "markdown",
   "metadata": {},
   "source": [
    "#### Which periods of the year are most busy?"
   ]
  },
  {
   "cell_type": "code",
   "execution_count": 168,
   "metadata": {},
   "outputs": [
    {
     "data": {
      "image/png": "[encoded data removed]",
      "text/plain": [
       "<Figure size 1008x432 with 1 Axes>"
      ]
     },
     "metadata": {
      "needs_background": "light"
     },
     "output_type": "display_data"
    }
   ],
   "source": [
    "# Number of matches played each month since 2000\n",
    "match_by_month = df.groupby(by='Month').count()['Winner']   #/20 to get the average\n",
    "match_by_month.plot(kind='bar', figsize=(14,6))\n",
    "plt.title('Matches played in 2000s')\n",
    "plt.ylabel('Matches')\n",
    "plt.xlabel('Month')\n",
    "plt.xticks(rotation=0)\n",
    "plt.show()"
   ]
  },
  {
   "cell_type": "markdown",
   "metadata": {},
   "source": [
    "#### The first three months are most busy and followed immediately with the least busy months.\n",
    "The last month is understandable (christmas and holiday period)"
   ]
  },
  {
   "cell_type": "markdown",
   "metadata": {},
   "source": [
    "##### Which months do players perform best"
   ]
  },
  {
   "cell_type": "code",
   "execution_count": 194,
   "metadata": {},
   "outputs": [
    {
     "data": {
      "text/plain": [
       "<pandas.core.groupby.generic.DataFrameGroupBy object at 0x7f6a2c792390>"
      ]
     },
     "execution_count": 194,
     "metadata": {},
     "output_type": "execute_result"
    }
   ],
   "source": [
    "# Number of matches played each month since 2000\n",
    "match_by_month = df.groupby(by='Month', as_index=False)\n",
    "match_by_month['Month']\n"
   ]
  },
  {
   "cell_type": "code",
   "execution_count": null,
   "metadata": {},
   "outputs": [],
   "source": []
  },
  {
   "cell_type": "code",
   "execution_count": null,
   "metadata": {},
   "outputs": [],
   "source": []
  },
  {
   "cell_type": "code",
   "execution_count": null,
   "metadata": {},
   "outputs": [],
   "source": []
  },
  {
   "cell_type": "code",
   "execution_count": null,
   "metadata": {},
   "outputs": [],
   "source": []
  },
  {
   "cell_type": "code",
   "execution_count": null,
   "metadata": {},
   "outputs": [],
   "source": []
  },
  {
   "cell_type": "code",
   "execution_count": null,
   "metadata": {},
   "outputs": [],
   "source": []
  },
  {
   "cell_type": "code",
   "execution_count": null,
   "metadata": {},
   "outputs": [],
   "source": []
  },
  {
   "cell_type": "code",
   "execution_count": null,
   "metadata": {},
   "outputs": [],
   "source": []
  },
  {
   "cell_type": "code",
   "execution_count": null,
   "metadata": {},
   "outputs": [],
   "source": []
  },
  {
   "cell_type": "code",
   "execution_count": null,
   "metadata": {},
   "outputs": [],
   "source": []
  },
  {
   "cell_type": "markdown",
   "metadata": {},
   "source": [
    "### Tossing"
   ]
  },
  {
   "cell_type": "code",
   "execution_count": 131,
   "metadata": {},
   "outputs": [],
   "source": [
    "def tosser(t):\n",
    "    t_split = t.split(' , elected to ')\n",
    "    tosser = t_split[0]\n",
    "    return tosser\n",
    "\n",
    "def choice(t):\n",
    "    t_split = t.split(' , elected to ')\n",
    "    choice = t_split[1]\n",
    "    return choice"
   ]
  },
  {
   "cell_type": "code",
   "execution_count": 155,
   "metadata": {},
   "outputs": [
    {
     "data": {
      "text/html": [
       "<div>\n",
       "<style scoped>\n",
       "    .dataframe tbody tr th:only-of-type {\n",
       "        vertical-align: middle;\n",
       "    }\n",
       "\n",
       "    .dataframe tbody tr th {\n",
       "        vertical-align: top;\n",
       "    }\n",
       "\n",
       "    .dataframe thead th {\n",
       "        text-align: right;\n",
       "    }\n",
       "</style>\n",
       "<table border=\"1\" class=\"dataframe\">\n",
       "  <thead>\n",
       "    <tr style=\"text-align: right;\">\n",
       "      <th></th>\n",
       "      <th>toss</th>\n",
       "    </tr>\n",
       "  </thead>\n",
       "  <tbody>\n",
       "    <tr>\n",
       "      <th>0</th>\n",
       "      <td>South Africa , elected to bat first</td>\n",
       "    </tr>\n",
       "    <tr>\n",
       "      <th>1</th>\n",
       "      <td>South Africa , elected to bat first</td>\n",
       "    </tr>\n",
       "    <tr>\n",
       "      <th>2</th>\n",
       "      <td>South Africa , elected to field first</td>\n",
       "    </tr>\n",
       "    <tr>\n",
       "      <th>3</th>\n",
       "      <td>South Africa , elected to bat first</td>\n",
       "    </tr>\n",
       "    <tr>\n",
       "      <th>4</th>\n",
       "      <td>India , elected to field first</td>\n",
       "    </tr>\n",
       "  </tbody>\n",
       "</table>\n",
       "</div>"
      ],
      "text/plain": [
       "                                    toss\n",
       "0    South Africa , elected to bat first\n",
       "1    South Africa , elected to bat first\n",
       "2  South Africa , elected to field first\n",
       "3    South Africa , elected to bat first\n",
       "4         India , elected to field first"
      ]
     },
     "execution_count": 155,
     "metadata": {},
     "output_type": "execute_result"
    }
   ],
   "source": [
    "query = 'select toss from mat'\n",
    "results = pd.read_sql_query(query, conn)\n",
    "results.head()"
   ]
  },
  {
   "cell_type": "code",
   "execution_count": 156,
   "metadata": {},
   "outputs": [
    {
     "data": {
      "text/plain": [
       "South Africa            228\n",
       "Sri Lanka                31\n",
       "Pakistan                 27\n",
       "Australia                27\n",
       "India                    25\n",
       "Zimbabwe                 19\n",
       "West Indies              19\n",
       "England                  18\n",
       "New Zealand              17\n",
       "Bangladesh                9\n",
       "Kenya                     4\n",
       "Ireland                   3\n",
       "Netherlands               2\n",
       "United Arab Emirates      1\n",
       "Canada                    1\n",
       "Name: toss, dtype: int64"
      ]
     },
     "execution_count": 156,
     "metadata": {},
     "output_type": "execute_result"
    }
   ],
   "source": [
    "winners = results['toss'].apply(tosser)\n",
    "#d = pd.DataFrame(winners)\n",
    "#d.head()\n",
    "winners.value_counts()"
   ]
  },
  {
   "cell_type": "code",
   "execution_count": 99,
   "metadata": {},
   "outputs": [
    {
     "data": {
      "text/plain": [
       "pandas.core.series.Series"
      ]
     },
     "execution_count": 99,
     "metadata": {},
     "output_type": "execute_result"
    }
   ],
   "source": [
    "type(winners)"
   ]
  },
  {
   "cell_type": "code",
   "execution_count": null,
   "metadata": {},
   "outputs": [],
   "source": []
  },
  {
   "cell_type": "code",
   "execution_count": null,
   "metadata": {},
   "outputs": [],
   "source": []
  },
  {
   "cell_type": "markdown",
   "metadata": {},
   "source": [
    "### Most victorious years"
   ]
  },
  {
   "cell_type": "code",
   "execution_count": 36,
   "metadata": {},
   "outputs": [],
   "source": [
    "def winner(result):\n",
    "    if result == '':\n",
    "        # This are non-tour games such as world cup and series\n",
    "        winner = 'No result'\n",
    "    else:\n",
    "        if 'led' in result:\n",
    "            winner = result.split(' led ')[0]\n",
    "        elif 'won' in result:\n",
    "            winner = result.split(' won ')[0]\n",
    "        elif 'advanced' in result:\n",
    "            winner = result.split(' advanced')[0]\n",
    "        # There would be a need to handle cases like:\n",
    "        # 3-match series level 1-1\n",
    "        # 3-match series drawn 1-1\n",
    "        elif 'level' in result:\n",
    "            winner = 'Unknown-level'\n",
    "        elif 'drawn' in result:\n",
    "            winner = 'Unknown-draw'\n",
    "        else:\n",
    "            winner = 'Unknown'\n",
    "    return winner\n",
    "    '''\n",
    "    The options are:\n",
    "        South Africa\n",
    "        [Opposition]\n",
    "        No result\n",
    "        Unknown*\n",
    "    '''"
   ]
  },
  {
   "cell_type": "code",
   "execution_count": 147,
   "metadata": {},
   "outputs": [
    {
     "data": {
      "text/html": [
       "<div>\n",
       "<style scoped>\n",
       "    .dataframe tbody tr th:only-of-type {\n",
       "        vertical-align: middle;\n",
       "    }\n",
       "\n",
       "    .dataframe tbody tr th {\n",
       "        vertical-align: top;\n",
       "    }\n",
       "\n",
       "    .dataframe thead th {\n",
       "        text-align: right;\n",
       "    }\n",
       "</style>\n",
       "<table border=\"1\" class=\"dataframe\">\n",
       "  <thead>\n",
       "    <tr style=\"text-align: right;\">\n",
       "      <th></th>\n",
       "      <th>result</th>\n",
       "    </tr>\n",
       "  </thead>\n",
       "  <tbody>\n",
       "    <tr>\n",
       "      <th>0</th>\n",
       "      <td>India led the 5-match series 1-0</td>\n",
       "    </tr>\n",
       "    <tr>\n",
       "      <th>1</th>\n",
       "      <td>India led the 5-match series 2-0</td>\n",
       "    </tr>\n",
       "    <tr>\n",
       "      <th>2</th>\n",
       "      <td>India led the 5-match series 2-1</td>\n",
       "    </tr>\n",
       "    <tr>\n",
       "      <th>3</th>\n",
       "      <td>India led the 5-match series 3-1</td>\n",
       "    </tr>\n",
       "    <tr>\n",
       "      <th>4</th>\n",
       "      <td>India won the 5-match series 3-2</td>\n",
       "    </tr>\n",
       "  </tbody>\n",
       "</table>\n",
       "</div>"
      ],
      "text/plain": [
       "                             result\n",
       "0  India led the 5-match series 1-0\n",
       "1  India led the 5-match series 2-0\n",
       "2  India led the 5-match series 2-1\n",
       "3  India led the 5-match series 3-1\n",
       "4  India won the 5-match series 3-2"
      ]
     },
     "execution_count": 147,
     "metadata": {},
     "output_type": "execute_result"
    }
   ],
   "source": [
    "query = 'select result from mat'\n",
    "results = pd.read_sql_query(query, conn)\n",
    "results.head()"
   ]
  },
  {
   "cell_type": "code",
   "execution_count": 149,
   "metadata": {},
   "outputs": [
    {
     "data": {
      "text/plain": [
       "South Africa     197\n",
       "No result        109\n",
       "Unknown-level     37\n",
       "India             18\n",
       "Australia         17\n",
       "England           16\n",
       "Sri Lanka         12\n",
       "New Zealand        9\n",
       "Pakistan           9\n",
       "Unknown-draw       4\n",
       "West Indies        2\n",
       "Bangladesh         1\n",
       "Name: result, dtype: int64"
      ]
     },
     "execution_count": 149,
     "metadata": {},
     "output_type": "execute_result"
    }
   ],
   "source": [
    "winners = results['result'].apply(winner)\n",
    "winners.value_counts()"
   ]
  },
  {
   "cell_type": "code",
   "execution_count": null,
   "metadata": {},
   "outputs": [],
   "source": []
  },
  {
   "cell_type": "code",
   "execution_count": null,
   "metadata": {},
   "outputs": [],
   "source": [
    "cursor.close()\n",
    "conn.close()"
   ]
  }
 ],
 "metadata": {
  "kernelspec": {
   "display_name": "Python 3",
   "language": "python",
   "name": "python3"
  },
  "language_info": {
   "codemirror_mode": {
    "name": "ipython",
    "version": 3
   },
   "file_extension": ".py",
   "mimetype": "text/x-python",
   "name": "python",
   "nbconvert_exporter": "python",
   "pygments_lexer": "ipython3",
   "version": "3.6.9"
  }
 },
 "nbformat": 4,
 "nbformat_minor": 4
}
