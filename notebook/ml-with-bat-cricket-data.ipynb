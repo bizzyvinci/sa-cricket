{
 "cells": [
  {
   "cell_type": "code",
   "execution_count": 1,
   "metadata": {},
   "outputs": [],
   "source": [
    "import numpy as np\n",
    "import pandas as pd\n",
    "import matplotlib.pyplot as plt"
   ]
  },
  {
   "cell_type": "markdown",
   "metadata": {},
   "source": [
    "## Bat ML"
   ]
  },
  {
   "cell_type": "code",
   "execution_count": 2,
   "metadata": {},
   "outputs": [],
   "source": [
    "bat_df = pd.read_csv(\"../datasets/bat.csv\")\n",
    "match_df = pd.read_csv(\"../datasets/mat.csv\", parse_dates=[\"match_date\"])\n",
    "opposition_df = pd.read_csv(\"../datasets/opposition.csv\")\n",
    "player_df = pd.read_csv(\"../datasets/player.csv\")\n",
    "ground_df = pd.read_csv(\"../datasets/ground.csv\")"
   ]
  },
  {
   "cell_type": "code",
   "execution_count": 3,
   "metadata": {},
   "outputs": [
    {
     "data": {
      "text/plain": [
       "(3934, 8)"
      ]
     },
     "execution_count": 3,
     "metadata": {},
     "output_type": "execute_result"
    }
   ],
   "source": [
    "bat_df.shape"
   ]
  },
  {
   "cell_type": "code",
   "execution_count": 4,
   "metadata": {},
   "outputs": [
    {
     "data": {
      "text/html": [
       "<div>\n",
       "<style scoped>\n",
       "    .dataframe tbody tr th:only-of-type {\n",
       "        vertical-align: middle;\n",
       "    }\n",
       "\n",
       "    .dataframe tbody tr th {\n",
       "        vertical-align: top;\n",
       "    }\n",
       "\n",
       "    .dataframe thead th {\n",
       "        text-align: right;\n",
       "    }\n",
       "</style>\n",
       "<table border=\"1\" class=\"dataframe\">\n",
       "  <thead>\n",
       "    <tr style=\"text-align: right;\">\n",
       "      <th></th>\n",
       "      <th>player</th>\n",
       "      <th>mat</th>\n",
       "      <th>runs</th>\n",
       "      <th>ball</th>\n",
       "      <th>M</th>\n",
       "      <th>_4s</th>\n",
       "      <th>_6s</th>\n",
       "      <th>strike_rate</th>\n",
       "    </tr>\n",
       "  </thead>\n",
       "  <tbody>\n",
       "    <tr>\n",
       "      <th>count</th>\n",
       "      <td>3934.000000</td>\n",
       "      <td>3.934000e+03</td>\n",
       "      <td>3934.000000</td>\n",
       "      <td>3934.000000</td>\n",
       "      <td>3934.000000</td>\n",
       "      <td>3934.000000</td>\n",
       "      <td>3934.000000</td>\n",
       "      <td>3934.000000</td>\n",
       "    </tr>\n",
       "    <tr>\n",
       "      <th>mean</th>\n",
       "      <td>95981.080834</td>\n",
       "      <td>4.247568e+05</td>\n",
       "      <td>27.982715</td>\n",
       "      <td>33.500508</td>\n",
       "      <td>42.209202</td>\n",
       "      <td>2.531774</td>\n",
       "      <td>0.375191</td>\n",
       "      <td>77.576002</td>\n",
       "    </tr>\n",
       "    <tr>\n",
       "      <th>std</th>\n",
       "      <td>126650.660419</td>\n",
       "      <td>3.550217e+05</td>\n",
       "      <td>30.470857</td>\n",
       "      <td>32.189661</td>\n",
       "      <td>50.800320</td>\n",
       "      <td>3.502842</td>\n",
       "      <td>1.884419</td>\n",
       "      <td>49.118890</td>\n",
       "    </tr>\n",
       "    <tr>\n",
       "      <th>min</th>\n",
       "      <td>40618.000000</td>\n",
       "      <td>6.465700e+04</td>\n",
       "      <td>-99.000000</td>\n",
       "      <td>-99.000000</td>\n",
       "      <td>-99.000000</td>\n",
       "      <td>-99.000000</td>\n",
       "      <td>-99.000000</td>\n",
       "      <td>-99.000000</td>\n",
       "    </tr>\n",
       "    <tr>\n",
       "      <th>25%</th>\n",
       "      <td>44932.000000</td>\n",
       "      <td>6.578700e+04</td>\n",
       "      <td>5.000000</td>\n",
       "      <td>9.000000</td>\n",
       "      <td>11.000000</td>\n",
       "      <td>0.000000</td>\n",
       "      <td>0.000000</td>\n",
       "      <td>50.000000</td>\n",
       "    </tr>\n",
       "    <tr>\n",
       "      <th>50%</th>\n",
       "      <td>45789.000000</td>\n",
       "      <td>3.503480e+05</td>\n",
       "      <td>17.000000</td>\n",
       "      <td>23.000000</td>\n",
       "      <td>29.000000</td>\n",
       "      <td>1.000000</td>\n",
       "      <td>0.000000</td>\n",
       "      <td>75.000000</td>\n",
       "    </tr>\n",
       "    <tr>\n",
       "      <th>75%</th>\n",
       "      <td>47015.000000</td>\n",
       "      <td>6.490990e+05</td>\n",
       "      <td>41.000000</td>\n",
       "      <td>47.750000</td>\n",
       "      <td>64.000000</td>\n",
       "      <td>4.000000</td>\n",
       "      <td>0.000000</td>\n",
       "      <td>100.000000</td>\n",
       "    </tr>\n",
       "    <tr>\n",
       "      <th>max</th>\n",
       "      <td>698189.000000</td>\n",
       "      <td>1.185321e+06</td>\n",
       "      <td>185.000000</td>\n",
       "      <td>160.000000</td>\n",
       "      <td>257.000000</td>\n",
       "      <td>21.000000</td>\n",
       "      <td>16.000000</td>\n",
       "      <td>460.000000</td>\n",
       "    </tr>\n",
       "  </tbody>\n",
       "</table>\n",
       "</div>"
      ],
      "text/plain": [
       "              player           mat         runs         ball            M  \\\n",
       "count    3934.000000  3.934000e+03  3934.000000  3934.000000  3934.000000   \n",
       "mean    95981.080834  4.247568e+05    27.982715    33.500508    42.209202   \n",
       "std    126650.660419  3.550217e+05    30.470857    32.189661    50.800320   \n",
       "min     40618.000000  6.465700e+04   -99.000000   -99.000000   -99.000000   \n",
       "25%     44932.000000  6.578700e+04     5.000000     9.000000    11.000000   \n",
       "50%     45789.000000  3.503480e+05    17.000000    23.000000    29.000000   \n",
       "75%     47015.000000  6.490990e+05    41.000000    47.750000    64.000000   \n",
       "max    698189.000000  1.185321e+06   185.000000   160.000000   257.000000   \n",
       "\n",
       "               _4s          _6s  strike_rate  \n",
       "count  3934.000000  3934.000000  3934.000000  \n",
       "mean      2.531774     0.375191    77.576002  \n",
       "std       3.502842     1.884419    49.118890  \n",
       "min     -99.000000   -99.000000   -99.000000  \n",
       "25%       0.000000     0.000000    50.000000  \n",
       "50%       1.000000     0.000000    75.000000  \n",
       "75%       4.000000     0.000000   100.000000  \n",
       "max      21.000000    16.000000   460.000000  "
      ]
     },
     "execution_count": 4,
     "metadata": {},
     "output_type": "execute_result"
    }
   ],
   "source": [
    "bat_df.describe()"
   ]
  },
  {
   "cell_type": "code",
   "execution_count": 5,
   "metadata": {},
   "outputs": [],
   "source": [
    "# Prepare for merging\n",
    "bat_df.rename(columns={\"player\":\"player_id\", \"mat\":\"match_id\"}, inplace=True)\n",
    "match_df.rename(columns={\"opposition\":\"opposition_id\", \"ground\":\"venue_id\"}, inplace=True)\n",
    "opposition_df.rename(columns={\"opp_id\":\"opposition_id\", \"opp_name\":\"opposition_name\", \"rating\":\"opposition_rating\"}, inplace=True)\n",
    "ground_df.rename(columns={\"ground_id\":\"venue_id\", \"ground_name\":\"venue_name\", \"country\":\"venue_country\"}, inplace=True)\n",
    "player_df.rename(columns={\"name\":\"player_name\"}, inplace=True)"
   ]
  },
  {
   "cell_type": "code",
   "execution_count": 6,
   "metadata": {},
   "outputs": [
    {
     "name": "stdout",
     "output_type": "stream",
     "text": [
      "Data shape: (3934, 26)\n"
     ]
    }
   ],
   "source": [
    "df = bat_df.merge(\n",
    "    player_df, how=\"left\", on=\"player_id\"\n",
    ").merge(\n",
    "    match_df, how=\"left\", on=\"match_id\"\n",
    ").merge(\n",
    "    ground_df, how=\"left\", on=\"venue_id\"\n",
    ").merge(\n",
    "    opposition_df, how=\"left\", on=\"opposition_id\"\n",
    ")\n",
    "\n",
    "print(f\"Data shape: {df.shape}\")"
   ]
  },
  {
   "cell_type": "code",
   "execution_count": 7,
   "metadata": {},
   "outputs": [
    {
     "data": {
      "text/plain": [
       "Index(['player_id', 'match_id', 'runs', 'ball', 'M', '_4s', '_6s',\n",
       "       'strike_rate', 'player_name', 'odi_debut', 'playing_role',\n",
       "       'batting_style', 'bowling_style', 'fielding_position', 'odi_no',\n",
       "       'opposition_id', 'venue_id', 'match_date', 'toss', 'series', 'result',\n",
       "       'match_days', 'venue_name', 'venue_country', 'opposition_name',\n",
       "       'opposition_rating'],\n",
       "      dtype='object')"
      ]
     },
     "execution_count": 7,
     "metadata": {},
     "output_type": "execute_result"
    }
   ],
   "source": [
    "df.columns"
   ]
  },
  {
   "cell_type": "markdown",
   "metadata": {},
   "source": [
    "### Data cleaning\n",
    "* remove duplicates (note: np.nan != np.nan)\n",
    "* Remove absent hurt (balls==0)\n",
    "* sort by date (reindex too)\n",
    "* nan is -99 for most columns, replace with 0"
   ]
  },
  {
   "cell_type": "code",
   "execution_count": 8,
   "metadata": {},
   "outputs": [
    {
     "name": "stdout",
     "output_type": "stream",
     "text": [
      "Old shape: (3934, 26)\n",
      "New shape: (3449, 26)\n"
     ]
    }
   ],
   "source": [
    "print(f\"Old shape: {df.shape}\")\n",
    "\n",
    "# Drop duplicates\n",
    "df.drop_duplicates([\"player_id\", \"match_id\", \"runs\", \"ball\"], inplace=True)\n",
    "\n",
    "# Remove absent hurt\n",
    "df.drop(df[df[\"ball\"]==0].index, inplace=True)\n",
    "\n",
    "print(f\"New shape: {df.shape}\")"
   ]
  },
  {
   "cell_type": "code",
   "execution_count": 9,
   "metadata": {},
   "outputs": [],
   "source": [
    "# Sort by match date\n",
    "df.sort_values(\"match_date\", axis=0, ignore_index=True, inplace=True)\n",
    "\n",
    "# Replace -99 with 0\n",
    "df.replace(-99, 0, inplace=True)"
   ]
  },
  {
   "cell_type": "code",
   "execution_count": 10,
   "metadata": {},
   "outputs": [
    {
     "data": {
      "text/html": [
       "<div>\n",
       "<style scoped>\n",
       "    .dataframe tbody tr th:only-of-type {\n",
       "        vertical-align: middle;\n",
       "    }\n",
       "\n",
       "    .dataframe tbody tr th {\n",
       "        vertical-align: top;\n",
       "    }\n",
       "\n",
       "    .dataframe thead th {\n",
       "        text-align: right;\n",
       "    }\n",
       "</style>\n",
       "<table border=\"1\" class=\"dataframe\">\n",
       "  <thead>\n",
       "    <tr style=\"text-align: right;\">\n",
       "      <th></th>\n",
       "      <th>player_id</th>\n",
       "      <th>match_id</th>\n",
       "      <th>runs</th>\n",
       "      <th>ball</th>\n",
       "      <th>M</th>\n",
       "      <th>_4s</th>\n",
       "      <th>_6s</th>\n",
       "      <th>strike_rate</th>\n",
       "      <th>odi_no</th>\n",
       "      <th>opposition_id</th>\n",
       "      <th>venue_id</th>\n",
       "      <th>opposition_rating</th>\n",
       "    </tr>\n",
       "  </thead>\n",
       "  <tbody>\n",
       "    <tr>\n",
       "      <th>count</th>\n",
       "      <td>3449.000000</td>\n",
       "      <td>3.449000e+03</td>\n",
       "      <td>3449.000000</td>\n",
       "      <td>3449.000000</td>\n",
       "      <td>3449.000000</td>\n",
       "      <td>3449.000000</td>\n",
       "      <td>3449.000000</td>\n",
       "      <td>3449.000000</td>\n",
       "      <td>3449.000000</td>\n",
       "      <td>3449.000000</td>\n",
       "      <td>3.449000e+03</td>\n",
       "      <td>3449.000000</td>\n",
       "    </tr>\n",
       "    <tr>\n",
       "      <th>mean</th>\n",
       "      <td>98855.237170</td>\n",
       "      <td>4.297030e+05</td>\n",
       "      <td>28.188460</td>\n",
       "      <td>33.603653</td>\n",
       "      <td>44.907219</td>\n",
       "      <td>2.582198</td>\n",
       "      <td>0.403885</td>\n",
       "      <td>77.761305</td>\n",
       "      <td>2771.299507</td>\n",
       "      <td>6.553784</td>\n",
       "      <td>7.869456e+04</td>\n",
       "      <td>96.781096</td>\n",
       "    </tr>\n",
       "    <tr>\n",
       "      <th>std</th>\n",
       "      <td>130750.395555</td>\n",
       "      <td>3.653009e+05</td>\n",
       "      <td>30.525281</td>\n",
       "      <td>32.191617</td>\n",
       "      <td>45.710885</td>\n",
       "      <td>3.151572</td>\n",
       "      <td>1.022427</td>\n",
       "      <td>48.913158</td>\n",
       "      <td>819.934830</td>\n",
       "      <td>5.762867</td>\n",
       "      <td>8.430320e+04</td>\n",
       "      <td>26.356283</td>\n",
       "    </tr>\n",
       "    <tr>\n",
       "      <th>min</th>\n",
       "      <td>40618.000000</td>\n",
       "      <td>6.465700e+04</td>\n",
       "      <td>0.000000</td>\n",
       "      <td>0.000000</td>\n",
       "      <td>0.000000</td>\n",
       "      <td>0.000000</td>\n",
       "      <td>0.000000</td>\n",
       "      <td>0.000000</td>\n",
       "      <td>1544.000000</td>\n",
       "      <td>1.000000</td>\n",
       "      <td>5.629300e+04</td>\n",
       "      <td>0.000000</td>\n",
       "    </tr>\n",
       "    <tr>\n",
       "      <th>25%</th>\n",
       "      <td>44932.000000</td>\n",
       "      <td>6.609700e+04</td>\n",
       "      <td>5.000000</td>\n",
       "      <td>9.000000</td>\n",
       "      <td>10.000000</td>\n",
       "      <td>0.000000</td>\n",
       "      <td>0.000000</td>\n",
       "      <td>50.000000</td>\n",
       "      <td>2030.000000</td>\n",
       "      <td>2.000000</td>\n",
       "      <td>5.879200e+04</td>\n",
       "      <td>85.000000</td>\n",
       "    </tr>\n",
       "    <tr>\n",
       "      <th>50%</th>\n",
       "      <td>45789.000000</td>\n",
       "      <td>2.990090e+05</td>\n",
       "      <td>17.000000</td>\n",
       "      <td>23.000000</td>\n",
       "      <td>29.000000</td>\n",
       "      <td>1.000000</td>\n",
       "      <td>0.000000</td>\n",
       "      <td>75.000000</td>\n",
       "      <td>2691.000000</td>\n",
       "      <td>6.000000</td>\n",
       "      <td>5.908900e+04</td>\n",
       "      <td>102.000000</td>\n",
       "    </tr>\n",
       "    <tr>\n",
       "      <th>75%</th>\n",
       "      <td>47255.000000</td>\n",
       "      <td>7.223390e+05</td>\n",
       "      <td>41.000000</td>\n",
       "      <td>48.000000</td>\n",
       "      <td>65.000000</td>\n",
       "      <td>4.000000</td>\n",
       "      <td>0.000000</td>\n",
       "      <td>100.000000</td>\n",
       "      <td>3522.000000</td>\n",
       "      <td>8.000000</td>\n",
       "      <td>5.930600e+04</td>\n",
       "      <td>116.000000</td>\n",
       "    </tr>\n",
       "    <tr>\n",
       "      <th>max</th>\n",
       "      <td>698189.000000</td>\n",
       "      <td>1.185321e+06</td>\n",
       "      <td>185.000000</td>\n",
       "      <td>160.000000</td>\n",
       "      <td>257.000000</td>\n",
       "      <td>21.000000</td>\n",
       "      <td>16.000000</td>\n",
       "      <td>460.000000</td>\n",
       "      <td>4254.000000</td>\n",
       "      <td>40.000000</td>\n",
       "      <td>1.126475e+06</td>\n",
       "      <td>125.000000</td>\n",
       "    </tr>\n",
       "  </tbody>\n",
       "</table>\n",
       "</div>"
      ],
      "text/plain": [
       "           player_id      match_id         runs         ball            M  \\\n",
       "count    3449.000000  3.449000e+03  3449.000000  3449.000000  3449.000000   \n",
       "mean    98855.237170  4.297030e+05    28.188460    33.603653    44.907219   \n",
       "std    130750.395555  3.653009e+05    30.525281    32.191617    45.710885   \n",
       "min     40618.000000  6.465700e+04     0.000000     0.000000     0.000000   \n",
       "25%     44932.000000  6.609700e+04     5.000000     9.000000    10.000000   \n",
       "50%     45789.000000  2.990090e+05    17.000000    23.000000    29.000000   \n",
       "75%     47255.000000  7.223390e+05    41.000000    48.000000    65.000000   \n",
       "max    698189.000000  1.185321e+06   185.000000   160.000000   257.000000   \n",
       "\n",
       "               _4s          _6s  strike_rate       odi_no  opposition_id  \\\n",
       "count  3449.000000  3449.000000  3449.000000  3449.000000    3449.000000   \n",
       "mean      2.582198     0.403885    77.761305  2771.299507       6.553784   \n",
       "std       3.151572     1.022427    48.913158   819.934830       5.762867   \n",
       "min       0.000000     0.000000     0.000000  1544.000000       1.000000   \n",
       "25%       0.000000     0.000000    50.000000  2030.000000       2.000000   \n",
       "50%       1.000000     0.000000    75.000000  2691.000000       6.000000   \n",
       "75%       4.000000     0.000000   100.000000  3522.000000       8.000000   \n",
       "max      21.000000    16.000000   460.000000  4254.000000      40.000000   \n",
       "\n",
       "           venue_id  opposition_rating  \n",
       "count  3.449000e+03        3449.000000  \n",
       "mean   7.869456e+04          96.781096  \n",
       "std    8.430320e+04          26.356283  \n",
       "min    5.629300e+04           0.000000  \n",
       "25%    5.879200e+04          85.000000  \n",
       "50%    5.908900e+04         102.000000  \n",
       "75%    5.930600e+04         116.000000  \n",
       "max    1.126475e+06         125.000000  "
      ]
     },
     "execution_count": 10,
     "metadata": {},
     "output_type": "execute_result"
    }
   ],
   "source": [
    "df.describe()"
   ]
  },
  {
   "cell_type": "markdown",
   "metadata": {},
   "source": [
    "Null values in Opposition_rating has to be replaced with their correct value. I couldn't find ODI men rating for Canada and Kenya, so we'll keep them at 0. [1](https://www.icc-cricket.com/rankings/mens/team-rankings/odi) and [2](https://sports.ndtv.com/cricket/icc-rankings) gives Netherlands a rating of 44"
   ]
  },
  {
   "cell_type": "code",
   "execution_count": 11,
   "metadata": {},
   "outputs": [
    {
     "data": {
      "text/html": [
       "<div>\n",
       "<style scoped>\n",
       "    .dataframe tbody tr th:only-of-type {\n",
       "        vertical-align: middle;\n",
       "    }\n",
       "\n",
       "    .dataframe tbody tr th {\n",
       "        vertical-align: top;\n",
       "    }\n",
       "\n",
       "    .dataframe thead th {\n",
       "        text-align: right;\n",
       "    }\n",
       "</style>\n",
       "<table border=\"1\" class=\"dataframe\">\n",
       "  <thead>\n",
       "    <tr style=\"text-align: right;\">\n",
       "      <th></th>\n",
       "      <th>opposition_id</th>\n",
       "      <th>opposition_name</th>\n",
       "      <th>opposition_rating</th>\n",
       "    </tr>\n",
       "  </thead>\n",
       "  <tbody>\n",
       "    <tr>\n",
       "      <th>8</th>\n",
       "      <td>15</td>\n",
       "      <td>Netherlands</td>\n",
       "      <td>-99</td>\n",
       "    </tr>\n",
       "    <tr>\n",
       "      <th>9</th>\n",
       "      <td>17</td>\n",
       "      <td>Canada</td>\n",
       "      <td>-99</td>\n",
       "    </tr>\n",
       "    <tr>\n",
       "      <th>11</th>\n",
       "      <td>26</td>\n",
       "      <td>Kenya</td>\n",
       "      <td>-99</td>\n",
       "    </tr>\n",
       "  </tbody>\n",
       "</table>\n",
       "</div>"
      ],
      "text/plain": [
       "    opposition_id opposition_name  opposition_rating\n",
       "8              15     Netherlands                -99\n",
       "9              17          Canada                -99\n",
       "11             26           Kenya                -99"
      ]
     },
     "execution_count": 11,
     "metadata": {},
     "output_type": "execute_result"
    }
   ],
   "source": [
    "opposition_df[opposition_df[\"opposition_rating\"]==-99]"
   ]
  },
  {
   "cell_type": "code",
   "execution_count": 12,
   "metadata": {},
   "outputs": [],
   "source": [
    "# Replace Netherlands rating to 44\n",
    "df.loc[df[\"opposition_name\"]==\"Netherlands\", 'opposition_rating'] = 44"
   ]
  },
  {
   "cell_type": "markdown",
   "metadata": {},
   "source": [
    "Lastly, probably worth noting that strike rate was **rounded down** for runs/ball."
   ]
  },
  {
   "cell_type": "markdown",
   "metadata": {},
   "source": [
    "### Batting attributes\n",
    "* No. of innings = count(player appearance before that match)\n",
    "* Batting average = sum(runs) / No. of innings\n",
    "* Strike rate = 100 * sum(runs) / sum(ball)\n",
    "* fifties = count(innings where 50 <= run < 100 )\n",
    "* centuries = count(innings where 100 <= run)\n",
    "* zeros = count(innings where run==0)\n",
    "* highest score = max(runs)\n",
    "\n",
    "\n",
    "### Derived attributes \n",
    "* Consistency: entire career\n",
    "* Form: last 12 months\n",
    "* Opposition: opposition team\n",
    "* Venue: venue"
   ]
  },
  {
   "cell_type": "code",
   "execution_count": 13,
   "metadata": {},
   "outputs": [
    {
     "name": "stdout",
     "output_type": "stream",
     "text": [
      "Train shape: (458, 26)\n"
     ]
    }
   ],
   "source": [
    "# The training start from 2017 because all odi_debut for players after 2016 is more than the start date(2000) of df\n",
    "train = df.loc[df[\"match_date\"] >= \"2017\"]\n",
    "\n",
    "print(f\"Train shape: {train.shape}\")"
   ]
  },
  {
   "cell_type": "code",
   "execution_count": 14,
   "metadata": {},
   "outputs": [
    {
     "data": {
      "text/html": [
       "<div>\n",
       "<style scoped>\n",
       "    .dataframe tbody tr th:only-of-type {\n",
       "        vertical-align: middle;\n",
       "    }\n",
       "\n",
       "    .dataframe tbody tr th {\n",
       "        vertical-align: top;\n",
       "    }\n",
       "\n",
       "    .dataframe thead th {\n",
       "        text-align: right;\n",
       "    }\n",
       "</style>\n",
       "<table border=\"1\" class=\"dataframe\">\n",
       "  <thead>\n",
       "    <tr style=\"text-align: right;\">\n",
       "      <th></th>\n",
       "      <th>player_id</th>\n",
       "      <th>match_id</th>\n",
       "      <th>runs</th>\n",
       "      <th>ball</th>\n",
       "      <th>M</th>\n",
       "      <th>_4s</th>\n",
       "      <th>_6s</th>\n",
       "      <th>strike_rate</th>\n",
       "      <th>player_name</th>\n",
       "      <th>odi_debut</th>\n",
       "      <th>...</th>\n",
       "      <th>venue_id</th>\n",
       "      <th>match_date</th>\n",
       "      <th>toss</th>\n",
       "      <th>series</th>\n",
       "      <th>result</th>\n",
       "      <th>match_days</th>\n",
       "      <th>venue_name</th>\n",
       "      <th>venue_country</th>\n",
       "      <th>opposition_name</th>\n",
       "      <th>opposition_rating</th>\n",
       "    </tr>\n",
       "  </thead>\n",
       "  <tbody>\n",
       "    <tr>\n",
       "      <th>2991</th>\n",
       "      <td>379143</td>\n",
       "      <td>936159</td>\n",
       "      <td>34</td>\n",
       "      <td>40</td>\n",
       "      <td>56</td>\n",
       "      <td>4</td>\n",
       "      <td>0</td>\n",
       "      <td>85.00</td>\n",
       "      <td>Quinton de Kock</td>\n",
       "      <td>2013-01-19</td>\n",
       "      <td>...</td>\n",
       "      <td>59159</td>\n",
       "      <td>2017-01-28</td>\n",
       "      <td>South Africa , elected to field first</td>\n",
       "      <td>Sri Lanka tour of South Africa</td>\n",
       "      <td>South Africa led the 5-match series 1-0</td>\n",
       "      <td>28 January 2017 (50-over match)</td>\n",
       "      <td>St George's Park</td>\n",
       "      <td>South Africa</td>\n",
       "      <td>Sri Lanka</td>\n",
       "      <td>85</td>\n",
       "    </tr>\n",
       "    <tr>\n",
       "      <th>2992</th>\n",
       "      <td>43906</td>\n",
       "      <td>936159</td>\n",
       "      <td>57</td>\n",
       "      <td>71</td>\n",
       "      <td>110</td>\n",
       "      <td>5</td>\n",
       "      <td>1</td>\n",
       "      <td>80.28</td>\n",
       "      <td>Hashim Amla</td>\n",
       "      <td>2008-03-09</td>\n",
       "      <td>...</td>\n",
       "      <td>59159</td>\n",
       "      <td>2017-01-28</td>\n",
       "      <td>South Africa , elected to field first</td>\n",
       "      <td>Sri Lanka tour of South Africa</td>\n",
       "      <td>South Africa led the 5-match series 1-0</td>\n",
       "      <td>28 January 2017 (50-over match)</td>\n",
       "      <td>St George's Park</td>\n",
       "      <td>South Africa</td>\n",
       "      <td>Sri Lanka</td>\n",
       "      <td>85</td>\n",
       "    </tr>\n",
       "    <tr>\n",
       "      <th>2993</th>\n",
       "      <td>44828</td>\n",
       "      <td>936159</td>\n",
       "      <td>55</td>\n",
       "      <td>68</td>\n",
       "      <td>85</td>\n",
       "      <td>5</td>\n",
       "      <td>0</td>\n",
       "      <td>80.88</td>\n",
       "      <td>Faf du Plessis</td>\n",
       "      <td>2011-01-18</td>\n",
       "      <td>...</td>\n",
       "      <td>59159</td>\n",
       "      <td>2017-01-28</td>\n",
       "      <td>South Africa , elected to field first</td>\n",
       "      <td>Sri Lanka tour of South Africa</td>\n",
       "      <td>South Africa led the 5-match series 1-0</td>\n",
       "      <td>28 January 2017 (50-over match)</td>\n",
       "      <td>St George's Park</td>\n",
       "      <td>South Africa</td>\n",
       "      <td>Sri Lanka</td>\n",
       "      <td>85</td>\n",
       "    </tr>\n",
       "    <tr>\n",
       "      <th>2994</th>\n",
       "      <td>44936</td>\n",
       "      <td>936159</td>\n",
       "      <td>30</td>\n",
       "      <td>27</td>\n",
       "      <td>32</td>\n",
       "      <td>3</td>\n",
       "      <td>1</td>\n",
       "      <td>111.11</td>\n",
       "      <td>AB de Villiers</td>\n",
       "      <td>2005-02-02</td>\n",
       "      <td>...</td>\n",
       "      <td>59159</td>\n",
       "      <td>2017-01-28</td>\n",
       "      <td>South Africa , elected to field first</td>\n",
       "      <td>Sri Lanka tour of South Africa</td>\n",
       "      <td>South Africa led the 5-match series 1-0</td>\n",
       "      <td>28 January 2017 (50-over match)</td>\n",
       "      <td>St George's Park</td>\n",
       "      <td>South Africa</td>\n",
       "      <td>Sri Lanka</td>\n",
       "      <td>85</td>\n",
       "    </tr>\n",
       "    <tr>\n",
       "      <th>2995</th>\n",
       "      <td>44932</td>\n",
       "      <td>936161</td>\n",
       "      <td>11</td>\n",
       "      <td>19</td>\n",
       "      <td>27</td>\n",
       "      <td>0</td>\n",
       "      <td>0</td>\n",
       "      <td>57.89</td>\n",
       "      <td>Jean-Paul Duminy</td>\n",
       "      <td>2004-08-20</td>\n",
       "      <td>...</td>\n",
       "      <td>59089</td>\n",
       "      <td>2017-02-01</td>\n",
       "      <td>Sri Lanka , elected to field first</td>\n",
       "      <td>Sri Lanka tour of South Africa</td>\n",
       "      <td>South Africa led the 5-match series 2-0</td>\n",
       "      <td>1 February 2017 - day/night match (50-over match)</td>\n",
       "      <td>Kingsmead</td>\n",
       "      <td>South Africa</td>\n",
       "      <td>Sri Lanka</td>\n",
       "      <td>85</td>\n",
       "    </tr>\n",
       "  </tbody>\n",
       "</table>\n",
       "<p>5 rows × 26 columns</p>\n",
       "</div>"
      ],
      "text/plain": [
       "      player_id  match_id  runs  ball    M  _4s  _6s  strike_rate  \\\n",
       "2991     379143    936159    34    40   56    4    0        85.00   \n",
       "2992      43906    936159    57    71  110    5    1        80.28   \n",
       "2993      44828    936159    55    68   85    5    0        80.88   \n",
       "2994      44936    936159    30    27   32    3    1       111.11   \n",
       "2995      44932    936161    11    19   27    0    0        57.89   \n",
       "\n",
       "           player_name   odi_debut  ... venue_id match_date  \\\n",
       "2991   Quinton de Kock  2013-01-19  ...    59159 2017-01-28   \n",
       "2992       Hashim Amla  2008-03-09  ...    59159 2017-01-28   \n",
       "2993    Faf du Plessis  2011-01-18  ...    59159 2017-01-28   \n",
       "2994    AB de Villiers  2005-02-02  ...    59159 2017-01-28   \n",
       "2995  Jean-Paul Duminy  2004-08-20  ...    59089 2017-02-01   \n",
       "\n",
       "                                       toss                          series  \\\n",
       "2991  South Africa , elected to field first  Sri Lanka tour of South Africa   \n",
       "2992  South Africa , elected to field first  Sri Lanka tour of South Africa   \n",
       "2993  South Africa , elected to field first  Sri Lanka tour of South Africa   \n",
       "2994  South Africa , elected to field first  Sri Lanka tour of South Africa   \n",
       "2995     Sri Lanka , elected to field first  Sri Lanka tour of South Africa   \n",
       "\n",
       "                                       result  \\\n",
       "2991  South Africa led the 5-match series 1-0   \n",
       "2992  South Africa led the 5-match series 1-0   \n",
       "2993  South Africa led the 5-match series 1-0   \n",
       "2994  South Africa led the 5-match series 1-0   \n",
       "2995  South Africa led the 5-match series 2-0   \n",
       "\n",
       "                                             match_days        venue_name  \\\n",
       "2991                    28 January 2017 (50-over match)  St George's Park   \n",
       "2992                    28 January 2017 (50-over match)  St George's Park   \n",
       "2993                    28 January 2017 (50-over match)  St George's Park   \n",
       "2994                    28 January 2017 (50-over match)  St George's Park   \n",
       "2995  1 February 2017 - day/night match (50-over match)         Kingsmead   \n",
       "\n",
       "     venue_country opposition_name opposition_rating  \n",
       "2991  South Africa       Sri Lanka                85  \n",
       "2992  South Africa       Sri Lanka                85  \n",
       "2993  South Africa       Sri Lanka                85  \n",
       "2994  South Africa       Sri Lanka                85  \n",
       "2995  South Africa       Sri Lanka                85  \n",
       "\n",
       "[5 rows x 26 columns]"
      ]
     },
     "execution_count": 14,
     "metadata": {},
     "output_type": "execute_result"
    }
   ],
   "source": [
    "train.head()"
   ]
  },
  {
   "cell_type": "code",
   "execution_count": 15,
   "metadata": {},
   "outputs": [],
   "source": [
    "def get_basic_attributes(df, bins, labels):\n",
    "    no_of_innings = df.shape[0]\n",
    "    if no_of_innings==0:\n",
    "        return 0,0,0,0,0,0,0\n",
    "    \n",
    "    runs_scored = df[\"runs\"].sum()\n",
    "    balls_faced = df[\"ball\"].sum()\n",
    "    batting_average = np.around(runs_scored / no_of_innings, 2)\n",
    "    strike_rate = np.around((runs_scored/balls_faced) * 100, 2)\n",
    "    centuries = df[df[\"runs\"] >= 100].shape[0]\n",
    "    fifties = df[(df[\"runs\"]>=50) & (df[\"runs\"]<100)].shape[0]\n",
    "    zeros = df[df[\"runs\"]==0].shape[0]\n",
    "    highest_score = df[\"runs\"].max()\n",
    "    \n",
    "    no_of_innings = pd.cut([no_of_innings], bins[\"no_of_innings\"], right=False, labels=labels[\"no_of_innings\"])[0]\n",
    "    batting_average = pd.cut([batting_average], bins[\"batting_average\"], right=False, labels=labels[\"batting_average\"])[0]\n",
    "    strike_rate = pd.cut([strike_rate], bins[\"strike_rate\"], right=False, labels=labels[\"strike_rate\"])[0]\n",
    "    centuries = pd.cut([centuries], bins[\"centuries\"], right=False, labels=labels[\"centuries\"])[0]\n",
    "    fifties = pd.cut([fifties], bins[\"fifties\"], right=False, labels=labels[\"fifties\"])[0]\n",
    "    if bins[\"zeros\"]:\n",
    "        zeros = pd.cut([zeros], bins[\"zeros\"], right=False, labels=labels[\"zeros\"])[0]\n",
    "    if bins[\"highest_score\"]:\n",
    "        highest_score = pd.cut([highest_score], bins[\"highest_score\"], right=False, labels=labels[\"highest_score\"])[0]\n",
    "    \n",
    "    \n",
    "    return no_of_innings, batting_average, strike_rate, centuries, fifties, zeros, highest_score"
   ]
  },
  {
   "cell_type": "code",
   "execution_count": 16,
   "metadata": {},
   "outputs": [],
   "source": [
    "def consistency_attribute(row):\n",
    "    mask = (\n",
    "        (df[\"player_id\"] == row[\"player_id\"])\n",
    "        & (df[\"match_date\"] < row[\"match_date\"])\n",
    "    )\n",
    "    consistency_df = df[mask]\n",
    "    \n",
    "    bins = {\n",
    "        \"no_of_innings\": [1,50,100,125,150,np.inf],\n",
    "        \"batting_average\": [0,10,20,30,40,np.inf],\n",
    "        \"strike_rate\": [0,50,60,80,100,np.inf],\n",
    "        \"centuries\": [0,1,5,10,15,20,np.inf],\n",
    "        \"fifties\": [0,1,10,20,30,40,np.inf],\n",
    "        \"zeros\": [0,1,5,10,15,20,np.inf],\n",
    "        \"highest_score\": None,\n",
    "    }\n",
    "    labels = {\n",
    "        \"no_of_innings\": [1,2,3,4,5],\n",
    "        \"batting_average\": [1,2,3,4,5],\n",
    "        \"strike_rate\": [1,2,3,4,5],\n",
    "        \"centuries\": [0,1,2,3,4,5],\n",
    "        \"fifties\": [0,1,2,3,4,5],\n",
    "        \"zeros\": [0,1,2,3,4,5],\n",
    "        \"highest_score\": None,\n",
    "    }\n",
    "    \n",
    "    no_of_innings, batting_average, strike_rate, centuries, fifties, zeros, highest_score = get_basic_attributes(consistency_df, bins, labels)\n",
    "    consistency = (0.4262*batting_average + 0.2566*no_of_innings + 0.1510*strike_rate + 0.0787*centuries + 0.0556*fifties - 0.0328*zeros)\n",
    "    \n",
    "    return np.around(consistency, 4)"
   ]
  },
  {
   "cell_type": "code",
   "execution_count": 17,
   "metadata": {},
   "outputs": [],
   "source": [
    "def form_attribute(row):\n",
    "    mask = (\n",
    "        (df[\"player_id\"] == row[\"player_id\"])\n",
    "        & (df[\"match_date\"] < row[\"match_date\"])\n",
    "        & (row[\"match_date\"]-df[\"match_date\"] <= np.timedelta64(1, \"Y\"))\n",
    "    )\n",
    "    form_df = df[mask]\n",
    "    bins = {\n",
    "        \"no_of_innings\": [1,5,10,12,15,np.inf],\n",
    "        \"batting_average\": [0,10,20,30,40,np.inf],\n",
    "        \"strike_rate\": [0,50,60,80,100,np.inf],\n",
    "        \"centuries\": [0,1,2,3,4,5,np.inf],\n",
    "        \"fifties\": [0,1,3,5,7,10,np.inf],\n",
    "        \"zeros\": [0,1,2,3,4,5,np.inf],\n",
    "        \"highest_score\": None,\n",
    "    }\n",
    "    labels = {\n",
    "        \"no_of_innings\": [1,2,3,4,5],\n",
    "        \"batting_average\": [1,2,3,4,5],\n",
    "        \"strike_rate\": [1,2,3,4,5],\n",
    "        \"centuries\": [0,1,2,3,4,5],\n",
    "        \"fifties\": [0,1,2,3,4,5],\n",
    "        \"zeros\": [0,1,2,3,4,5],\n",
    "        \"highest_score\": None,\n",
    "    }\n",
    "    \n",
    "    no_of_innings, batting_average, strike_rate, centuries, fifties, zeros, highest_score = get_basic_attributes(form_df, bins, labels)\n",
    "    form = (0.4262*batting_average + 0.2566*no_of_innings + 0.1510*strike_rate + 0.0787*centuries + 0.0556*fifties - 0.0328*zeros)\n",
    "    \n",
    "    return np.around(form, 4)"
   ]
  },
  {
   "cell_type": "code",
   "execution_count": 18,
   "metadata": {},
   "outputs": [],
   "source": [
    "def opposition_attribute(row):\n",
    "    mask = (\n",
    "        (df[\"player_id\"] == row[\"player_id\"])\n",
    "        & (df[\"match_date\"] < row[\"match_date\"])\n",
    "        & (df[\"opposition_id\"] == row[\"opposition_id\"])\n",
    "    )\n",
    "    opposition_df = df[mask]\n",
    "    \n",
    "    bins = {\n",
    "        \"no_of_innings\": [1,3,5,7,10,np.inf],\n",
    "        \"batting_average\": [0,10,20,30,40,np.inf],\n",
    "        \"strike_rate\": [0,50,60,80,100,np.inf],\n",
    "        \"centuries\": [0,1,2,3,np.inf],\n",
    "        \"fifties\": [0,1,3,5,7,10,np.inf],\n",
    "        \"zeros\": [0,1,2,3,4,5,np.inf],\n",
    "        \"highest_score\":  None,\n",
    "    }\n",
    "    labels = {\n",
    "        \"no_of_innings\": [1,2,3,4,5],\n",
    "        \"batting_average\": [1,2,3,4,5],\n",
    "        \"strike_rate\": [1,2,3,4,5],\n",
    "        \"centuries\": [0,3,4,5],\n",
    "        \"fifties\": [0,1,2,3,4,5],\n",
    "        \"zeros\": [0,1,2,3,4,5],\n",
    "        \"highest_score\": None,\n",
    "    }\n",
    "    \n",
    "    no_of_innings, batting_average, strike_rate, centuries, fifties, zeros, highest_score = get_basic_attributes(opposition_df, bins, labels)\n",
    "    opposition = (0.4262*batting_average + 0.2566*no_of_innings + 0.1510*strike_rate + 0.0787*centuries + 0.0556*fifties - 0.0328*zeros)\n",
    "    \n",
    "    return np.around(opposition, 4)"
   ]
  },
  {
   "cell_type": "code",
   "execution_count": 19,
   "metadata": {},
   "outputs": [],
   "source": [
    "def venue_attribute(row):\n",
    "    mask = (\n",
    "        (df[\"player_id\"] == row[\"player_id\"])\n",
    "        & (df[\"match_date\"] < row[\"match_date\"])\n",
    "        & (df[\"venue_country\"] == row[\"venue_country\"])\n",
    "    )\n",
    "    venue_df = df[mask]\n",
    "    \n",
    "    bins = {\n",
    "        \"no_of_innings\": [1,2,3,4,5,np.inf],\n",
    "        \"batting_average\": [0,10,20,30,40,np.inf],\n",
    "        \"strike_rate\": [0,50,60,80,100,np.inf],\n",
    "        \"centuries\": [0,1,2,np.inf],\n",
    "        \"fifties\": [0,1,2,np.inf],\n",
    "        \"zeros\": None,\n",
    "        \"highest_score\": [0,1,25,50,100,150,np.inf],\n",
    "    }\n",
    "    labels = {\n",
    "        \"no_of_innings\": [1,2,3,4,5],\n",
    "        \"batting_average\": [1,2,3,4,5],\n",
    "        \"strike_rate\": [1,2,3,4,5],\n",
    "        \"centuries\": [0,4,5],\n",
    "        \"fifties\": [0,4,5],\n",
    "        \"zeros\": None,\n",
    "        \"highest_score\": [0,1,2,3,4,5],\n",
    "    }\n",
    "    \n",
    "    no_of_innings, batting_average, strike_rate, centuries, fifties, zeros, highest_score = get_basic_attributes(venue_df, bins, labels)\n",
    "    venue = (0.4262*batting_average + 0.2566*no_of_innings + 0.1510*strike_rate + 0.0787*centuries + 0.0556*fifties + 0.0328*highest_score)\n",
    "    \n",
    "    return np.around(venue,4)"
   ]
  },
  {
   "cell_type": "code",
   "execution_count": 20,
   "metadata": {},
   "outputs": [
    {
     "name": "stdout",
     "output_type": "stream",
     "text": [
      "X shape: (458, 4)\n"
     ]
    }
   ],
   "source": [
    "X = pd.DataFrame()\n",
    "X[\"consistency\"] = train.apply(consistency_attribute, axis=1)\n",
    "X[\"form\"] = train.apply(form_attribute, axis=1)\n",
    "X[\"opposition\"] = train.apply(opposition_attribute, axis=1)\n",
    "X[\"venue\"] = train.apply(venue_attribute, axis=1)\n",
    "print(f\"X shape: {X.shape}\")"
   ]
  },
  {
   "cell_type": "code",
   "execution_count": 21,
   "metadata": {},
   "outputs": [],
   "source": [
    "# Personally, I think strike_rate is a better target for measuring performance.\n",
    "# The models perform poorly for strike_rate though\n",
    "y = train.loc[:, \"runs\"]"
   ]
  },
  {
   "cell_type": "markdown",
   "metadata": {},
   "source": [
    "#### Data cleaning\n",
    "\n",
    "Change 0s to mean"
   ]
  },
  {
   "cell_type": "code",
   "execution_count": 22,
   "metadata": {},
   "outputs": [],
   "source": [
    "X.loc[X[\"consistency\"]==0, \"consistency\"] = X[X[\"consistency\"]!=0][\"consistency\"].mean()\n",
    "X.loc[X[\"form\"]==0, \"form\"] = X[X[\"form\"]!=0][\"form\"].mean()\n",
    "X.loc[X[\"opposition\"]==0, \"opposition\"] = X[X[\"opposition\"]!=0][\"opposition\"].mean()\n",
    "X.loc[X[\"venue\"]==0, \"venue\"] = X[X[\"venue\"]!=0][\"venue\"].mean()"
   ]
  },
  {
   "cell_type": "code",
   "execution_count": 23,
   "metadata": {},
   "outputs": [
    {
     "data": {
      "text/html": [
       "<div>\n",
       "<style scoped>\n",
       "    .dataframe tbody tr th:only-of-type {\n",
       "        vertical-align: middle;\n",
       "    }\n",
       "\n",
       "    .dataframe tbody tr th {\n",
       "        vertical-align: top;\n",
       "    }\n",
       "\n",
       "    .dataframe thead th {\n",
       "        text-align: right;\n",
       "    }\n",
       "</style>\n",
       "<table border=\"1\" class=\"dataframe\">\n",
       "  <thead>\n",
       "    <tr style=\"text-align: right;\">\n",
       "      <th></th>\n",
       "      <th>consistency</th>\n",
       "      <th>form</th>\n",
       "      <th>opposition</th>\n",
       "      <th>venue</th>\n",
       "    </tr>\n",
       "  </thead>\n",
       "  <tbody>\n",
       "    <tr>\n",
       "      <th>count</th>\n",
       "      <td>458.000000</td>\n",
       "      <td>458.000000</td>\n",
       "      <td>458.000000</td>\n",
       "      <td>458.000000</td>\n",
       "    </tr>\n",
       "    <tr>\n",
       "      <th>mean</th>\n",
       "      <td>2.785411</td>\n",
       "      <td>2.931287</td>\n",
       "      <td>2.990929</td>\n",
       "      <td>3.507608</td>\n",
       "    </tr>\n",
       "    <tr>\n",
       "      <th>std</th>\n",
       "      <td>1.083639</td>\n",
       "      <td>0.997357</td>\n",
       "      <td>1.061367</td>\n",
       "      <td>1.089377</td>\n",
       "    </tr>\n",
       "    <tr>\n",
       "      <th>min</th>\n",
       "      <td>0.801000</td>\n",
       "      <td>0.801000</td>\n",
       "      <td>0.801000</td>\n",
       "      <td>0.833800</td>\n",
       "    </tr>\n",
       "    <tr>\n",
       "      <th>25%</th>\n",
       "      <td>1.895000</td>\n",
       "      <td>2.249000</td>\n",
       "      <td>2.193400</td>\n",
       "      <td>2.805000</td>\n",
       "    </tr>\n",
       "    <tr>\n",
       "      <th>50%</th>\n",
       "      <td>2.785411</td>\n",
       "      <td>2.931543</td>\n",
       "      <td>2.990929</td>\n",
       "      <td>3.507608</td>\n",
       "    </tr>\n",
       "    <tr>\n",
       "      <th>75%</th>\n",
       "      <td>3.562700</td>\n",
       "      <td>3.639100</td>\n",
       "      <td>3.929400</td>\n",
       "      <td>4.394500</td>\n",
       "    </tr>\n",
       "    <tr>\n",
       "      <th>max</th>\n",
       "      <td>4.774900</td>\n",
       "      <td>4.548800</td>\n",
       "      <td>4.784900</td>\n",
       "      <td>5.004500</td>\n",
       "    </tr>\n",
       "  </tbody>\n",
       "</table>\n",
       "</div>"
      ],
      "text/plain": [
       "       consistency        form  opposition       venue\n",
       "count   458.000000  458.000000  458.000000  458.000000\n",
       "mean      2.785411    2.931287    2.990929    3.507608\n",
       "std       1.083639    0.997357    1.061367    1.089377\n",
       "min       0.801000    0.801000    0.801000    0.833800\n",
       "25%       1.895000    2.249000    2.193400    2.805000\n",
       "50%       2.785411    2.931543    2.990929    3.507608\n",
       "75%       3.562700    3.639100    3.929400    4.394500\n",
       "max       4.774900    4.548800    4.784900    5.004500"
      ]
     },
     "execution_count": 23,
     "metadata": {},
     "output_type": "execute_result"
    }
   ],
   "source": [
    "X.describe()"
   ]
  },
  {
   "cell_type": "markdown",
   "metadata": {},
   "source": [
    "### Algorithm: Regression models\n",
    "The paper used classification and measured accuracy."
   ]
  },
  {
   "cell_type": "code",
   "execution_count": 24,
   "metadata": {},
   "outputs": [],
   "source": [
    "from sklearn.model_selection import train_test_split, cross_val_score\n",
    "from sklearn.ensemble import RandomForestRegressor, GradientBoostingRegressor\n",
    "from sklearn.svm import SVR\n",
    "from sklearn.linear_model import LinearRegression\n",
    "from sklearn.tree import DecisionTreeRegressor"
   ]
  },
  {
   "cell_type": "code",
   "execution_count": 25,
   "metadata": {},
   "outputs": [
    {
     "name": "stdout",
     "output_type": "stream",
     "text": [
      "Score: [-1063.33486834  -985.29811344  -525.32598422 -1002.76693727\n",
      "  -925.15152331]\n",
      "Mean: -900.3754853155733\n"
     ]
    }
   ],
   "source": [
    "model = LinearRegression()\n",
    "score = cross_val_score(model, X.values, y.values, scoring=\"neg_mean_squared_error\", n_jobs=-1)\n",
    "print(f\"Score: {score}\\nMean: {score.mean()}\")"
   ]
  },
  {
   "cell_type": "code",
   "execution_count": 26,
   "metadata": {},
   "outputs": [
    {
     "name": "stdout",
     "output_type": "stream",
     "text": [
      "Score: [-1198.19676241 -1008.01238709  -504.96110279 -1046.83525919\n",
      " -1064.1771652 ]\n",
      "Mean: -964.4365353338126\n"
     ]
    }
   ],
   "source": [
    "model = SVR()\n",
    "score = cross_val_score(model, X.values, y.values, scoring=\"neg_mean_squared_error\", n_jobs=-1)\n",
    "print(f\"Score: {score}\\nMean: {score.mean()}\")"
   ]
  },
  {
   "cell_type": "code",
   "execution_count": 27,
   "metadata": {},
   "outputs": [
    {
     "name": "stdout",
     "output_type": "stream",
     "text": [
      "Score: [-2217.8964372  -2055.72484729  -987.45048309 -1654.73197777\n",
      " -1893.31046956]\n",
      "Mean: -1761.8228429822836\n"
     ]
    }
   ],
   "source": [
    "model = DecisionTreeRegressor()\n",
    "score = cross_val_score(model, X.values, y.values, scoring=\"neg_mean_squared_error\", n_jobs=-1)\n",
    "print(f\"Score: {score}\\nMean: {score.mean()}\")"
   ]
  },
  {
   "cell_type": "code",
   "execution_count": 28,
   "metadata": {},
   "outputs": [
    {
     "name": "stdout",
     "output_type": "stream",
     "text": [
      "Score: [-1248.14841272 -1057.97715538  -727.42180527 -1108.97082252\n",
      "  -993.98473101]\n",
      "Mean: -1027.3005853821473\n"
     ]
    }
   ],
   "source": [
    "model = RandomForestRegressor()\n",
    "score = cross_val_score(model, X.values, y.values, scoring=\"neg_mean_squared_error\", n_jobs=-1)\n",
    "print(f\"Score: {score}\\nMean: {score.mean()}\")"
   ]
  },
  {
   "cell_type": "code",
   "execution_count": 29,
   "metadata": {},
   "outputs": [
    {
     "name": "stdout",
     "output_type": "stream",
     "text": [
      "Score: [-1209.5147564  -1144.27807393  -810.53949694 -1081.08174531\n",
      " -1147.22325291]\n",
      "Mean: -1078.527465097342\n"
     ]
    }
   ],
   "source": [
    "model = GradientBoostingRegressor()\n",
    "score = cross_val_score(model, X.values, y.values, scoring=\"neg_mean_squared_error\", n_jobs=-1)\n",
    "print(f\"Score: {score}\\nMean: {score.mean()}\")"
   ]
  },
  {
   "cell_type": "markdown",
   "metadata": {},
   "source": [
    "#### There are other input attributes but it wasn't included because the basic attribute is decent enough and our dataset is small. For illustration, here it is."
   ]
  },
  {
   "cell_type": "code",
   "execution_count": 30,
   "metadata": {},
   "outputs": [],
   "source": [
    "from sklearn.preprocessing import LabelEncoder\n",
    "le = LabelEncoder()"
   ]
  },
  {
   "cell_type": "code",
   "execution_count": 31,
   "metadata": {},
   "outputs": [
    {
     "data": {
      "text/plain": [
       "Index(['player_id', 'match_id', 'runs', 'ball', 'M', '_4s', '_6s',\n",
       "       'strike_rate', 'player_name', 'odi_debut', 'playing_role',\n",
       "       'batting_style', 'bowling_style', 'fielding_position', 'odi_no',\n",
       "       'opposition_id', 'venue_id', 'match_date', 'toss', 'series', 'result',\n",
       "       'match_days', 'venue_name', 'venue_country', 'opposition_name',\n",
       "       'opposition_rating'],\n",
       "      dtype='object')"
      ]
     },
     "execution_count": 31,
     "metadata": {},
     "output_type": "execute_result"
    }
   ],
   "source": [
    "df.columns"
   ]
  },
  {
   "cell_type": "code",
   "execution_count": 32,
   "metadata": {},
   "outputs": [
    {
     "data": {
      "text/plain": [
       "3052      South Africa , elected to bat first\n",
       "174     South Africa , elected to field first\n",
       "3269    South Africa , elected to field first\n",
       "196        Sri Lanka , elected to field first\n",
       "2773      South Africa , elected to bat first\n",
       "1976      South Africa , elected to bat first\n",
       "2696     West Indies , elected to field first\n",
       "23        South Africa , elected to bat first\n",
       "2779      South Africa , elected to bat first\n",
       "1310         Australia , elected to bat first\n",
       "Name: toss, dtype: object"
      ]
     },
     "execution_count": 32,
     "metadata": {},
     "output_type": "execute_result"
    }
   ],
   "source": [
    "# Use sample or unique method to understand column values\n",
    "df[\"toss\"].sample(10)"
   ]
  },
  {
   "cell_type": "code",
   "execution_count": 33,
   "metadata": {},
   "outputs": [
    {
     "data": {
      "text/plain": [
       "1    276\n",
       "0    182\n",
       "Name: batting_hand, dtype: int64"
      ]
     },
     "execution_count": 33,
     "metadata": {},
     "output_type": "execute_result"
    }
   ],
   "source": [
    "def batting_hand(bat_style):\n",
    "    # unique() = ['Left-hand bat', 'Right-hand bat']\n",
    "    if \"Right-hand\" in bat_style:\n",
    "        return 1\n",
    "    elif \"Left-hand\" in bat_style:\n",
    "        return 0\n",
    "    else:\n",
    "        return -1\n",
    "    \n",
    "X[\"batting_hand\"] = train[\"batting_style\"].apply(batting_hand)\n",
    "X[\"batting_hand\"].value_counts()"
   ]
  },
  {
   "cell_type": "code",
   "execution_count": 34,
   "metadata": {},
   "outputs": [
    {
     "data": {
      "text/plain": [
       " 1    297\n",
       "-1     73\n",
       "-2     66\n",
       " 0     22\n",
       "Name: bowling_hand, dtype: int64"
      ]
     },
     "execution_count": 34,
     "metadata": {},
     "output_type": "execute_result"
    }
   ],
   "source": [
    "def bowling_hand(bowl_style):\n",
    "    # There are nan in bowl_style\n",
    "    if type(bowl_style)==float:\n",
    "        return -2\n",
    "    elif \"right-arm\" in bowl_style.lower():\n",
    "        return 1\n",
    "    elif \"left-arm\" in bowl_style.lower():\n",
    "        return 0\n",
    "    else:\n",
    "        return -1\n",
    "    \n",
    "X[\"bowling_hand\"] = train[\"bowling_style\"].apply(bowling_hand)\n",
    "X[\"bowling_hand\"].value_counts()"
   ]
  },
  {
   "cell_type": "code",
   "execution_count": 35,
   "metadata": {},
   "outputs": [
    {
     "data": {
      "text/plain": [
       "1    266\n",
       "0    192\n",
       "Name: match_time, dtype: int64"
      ]
     },
     "execution_count": 35,
     "metadata": {},
     "output_type": "execute_result"
    }
   ],
   "source": [
    "def match_time(arg):\n",
    "    # There are nan in bowl_style\n",
    "    if \"day/night\" in arg:\n",
    "        return 1\n",
    "    else:\n",
    "        return 0\n",
    "    \n",
    "X[\"match_time\"] = train[\"match_days\"].apply(match_time)\n",
    "X[\"match_time\"].value_counts()"
   ]
  },
  {
   "cell_type": "code",
   "execution_count": 36,
   "metadata": {},
   "outputs": [
    {
     "data": {
      "text/plain": [
       "1    234\n",
       "0    224\n",
       "Name: home_venue, dtype: int64"
      ]
     },
     "execution_count": 36,
     "metadata": {},
     "output_type": "execute_result"
    }
   ],
   "source": [
    "def venue(country):\n",
    "    if country==\"South Africa\":\n",
    "        return 1\n",
    "    else:\n",
    "        return 0\n",
    "\n",
    "X[\"home_venue\"] = train[\"venue_country\"].apply(venue)\n",
    "X[\"home_venue\"].value_counts()"
   ]
  },
  {
   "cell_type": "code",
   "execution_count": 37,
   "metadata": {},
   "outputs": [
    {
     "data": {
      "text/plain": [
       "1    265\n",
       "0    193\n",
       "Name: toss, dtype: int64"
      ]
     },
     "execution_count": 37,
     "metadata": {},
     "output_type": "execute_result"
    }
   ],
   "source": [
    "def toss_attribute(toss):\n",
    "    if \"South Africa\" in toss:\n",
    "        return 1\n",
    "    else:\n",
    "        return 0\n",
    "\n",
    "X[\"toss\"] = train[\"toss\"].apply(toss_attribute)\n",
    "X[\"toss\"].value_counts()"
   ]
  },
  {
   "cell_type": "code",
   "execution_count": 38,
   "metadata": {},
   "outputs": [],
   "source": [
    "X[\"opposition\"] = train[\"opposition_rating\"]\n",
    "X[\"playing_role\"] = le.fit_transform(train[\"playing_role\"]) # One hot encoding is likely better. This is just illustration"
   ]
  },
  {
   "cell_type": "code",
   "execution_count": 39,
   "metadata": {},
   "outputs": [
    {
     "data": {
      "text/html": [
       "<div>\n",
       "<style scoped>\n",
       "    .dataframe tbody tr th:only-of-type {\n",
       "        vertical-align: middle;\n",
       "    }\n",
       "\n",
       "    .dataframe tbody tr th {\n",
       "        vertical-align: top;\n",
       "    }\n",
       "\n",
       "    .dataframe thead th {\n",
       "        text-align: right;\n",
       "    }\n",
       "</style>\n",
       "<table border=\"1\" class=\"dataframe\">\n",
       "  <thead>\n",
       "    <tr style=\"text-align: right;\">\n",
       "      <th></th>\n",
       "      <th>consistency</th>\n",
       "      <th>form</th>\n",
       "      <th>opposition</th>\n",
       "      <th>venue</th>\n",
       "      <th>batting_hand</th>\n",
       "      <th>bowling_hand</th>\n",
       "      <th>match_time</th>\n",
       "      <th>home_venue</th>\n",
       "      <th>toss</th>\n",
       "      <th>playing_role</th>\n",
       "    </tr>\n",
       "  </thead>\n",
       "  <tbody>\n",
       "    <tr>\n",
       "      <th>2991</th>\n",
       "      <td>3.5071</td>\n",
       "      <td>4.5163</td>\n",
       "      <td>85</td>\n",
       "      <td>5.0045</td>\n",
       "      <td>0</td>\n",
       "      <td>-2</td>\n",
       "      <td>0</td>\n",
       "      <td>1</td>\n",
       "      <td>1</td>\n",
       "      <td>8</td>\n",
       "    </tr>\n",
       "    <tr>\n",
       "      <th>2992</th>\n",
       "      <td>4.2889</td>\n",
       "      <td>3.5154</td>\n",
       "      <td>85</td>\n",
       "      <td>4.8535</td>\n",
       "      <td>1</td>\n",
       "      <td>1</td>\n",
       "      <td>0</td>\n",
       "      <td>1</td>\n",
       "      <td>1</td>\n",
       "      <td>7</td>\n",
       "    </tr>\n",
       "    <tr>\n",
       "      <th>2993</th>\n",
       "      <td>3.1134</td>\n",
       "      <td>3.9185</td>\n",
       "      <td>85</td>\n",
       "      <td>3.8896</td>\n",
       "      <td>1</td>\n",
       "      <td>-1</td>\n",
       "      <td>0</td>\n",
       "      <td>1</td>\n",
       "      <td>1</td>\n",
       "      <td>5</td>\n",
       "    </tr>\n",
       "    <tr>\n",
       "      <th>2994</th>\n",
       "      <td>4.7749</td>\n",
       "      <td>3.1801</td>\n",
       "      <td>85</td>\n",
       "      <td>4.9717</td>\n",
       "      <td>1</td>\n",
       "      <td>1</td>\n",
       "      <td>0</td>\n",
       "      <td>1</td>\n",
       "      <td>1</td>\n",
       "      <td>8</td>\n",
       "    </tr>\n",
       "    <tr>\n",
       "      <th>2995</th>\n",
       "      <td>3.5151</td>\n",
       "      <td>3.4464</td>\n",
       "      <td>85</td>\n",
       "      <td>4.3945</td>\n",
       "      <td>0</td>\n",
       "      <td>1</td>\n",
       "      <td>1</td>\n",
       "      <td>1</td>\n",
       "      <td>0</td>\n",
       "      <td>2</td>\n",
       "    </tr>\n",
       "  </tbody>\n",
       "</table>\n",
       "</div>"
      ],
      "text/plain": [
       "      consistency    form  opposition   venue  batting_hand  bowling_hand  \\\n",
       "2991       3.5071  4.5163          85  5.0045             0            -2   \n",
       "2992       4.2889  3.5154          85  4.8535             1             1   \n",
       "2993       3.1134  3.9185          85  3.8896             1            -1   \n",
       "2994       4.7749  3.1801          85  4.9717             1             1   \n",
       "2995       3.5151  3.4464          85  4.3945             0             1   \n",
       "\n",
       "      match_time  home_venue  toss  playing_role  \n",
       "2991           0           1     1             8  \n",
       "2992           0           1     1             7  \n",
       "2993           0           1     1             5  \n",
       "2994           0           1     1             8  \n",
       "2995           1           1     0             2  "
      ]
     },
     "execution_count": 39,
     "metadata": {},
     "output_type": "execute_result"
    }
   ],
   "source": [
    "X.head()"
   ]
  },
  {
   "cell_type": "code",
   "execution_count": 40,
   "metadata": {},
   "outputs": [
    {
     "name": "stdout",
     "output_type": "stream",
     "text": [
      "Score: [-1007.10688971  -926.55911234  -730.87983388  -927.50300628\n",
      "  -874.200867  ]\n",
      "Mean: -893.2499418437426\n"
     ]
    }
   ],
   "source": [
    "# One score before we go\n",
    "model = LinearRegression()\n",
    "score = cross_val_score(model, X.values, y.values, scoring=\"neg_mean_squared_error\", n_jobs=-1)\n",
    "print(f\"Score: {score}\\nMean: {score.mean()}\")"
   ]
  },
  {
   "cell_type": "markdown",
   "metadata": {},
   "source": [
    "#### Thanks for reading (or scrolling to the bottom :))"
   ]
  }
 ],
 "metadata": {
  "kernelspec": {
   "display_name": "Python 3",
   "language": "python",
   "name": "python3"
  },
  "language_info": {
   "codemirror_mode": {
    "name": "ipython",
    "version": 3
   },
   "file_extension": ".py",
   "mimetype": "text/x-python",
   "name": "python",
   "nbconvert_exporter": "python",
   "pygments_lexer": "ipython3",
   "version": "3.6.9"
  }
 },
 "nbformat": 4,
 "nbformat_minor": 4
}
